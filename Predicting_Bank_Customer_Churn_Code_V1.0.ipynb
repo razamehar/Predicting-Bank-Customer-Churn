{
 "cells": [
  {
   "cell_type": "markdown",
   "source": [
    " Import relevant libraries and modules"
   ],
   "metadata": {
    "collapsed": false
   },
   "id": "4b02fdee03fc840c"
  },
  {
   "cell_type": "code",
   "outputs": [
    {
     "name": "stderr",
     "output_type": "stream",
     "text": [
      "C:\\Users\\Hp\\anaconda3\\Lib\\site-packages\\tqdm\\auto.py:21: TqdmWarning: IProgress not found. Please update jupyter and ipywidgets. See https://ipywidgets.readthedocs.io/en/stable/user_install.html\n",
      "  from .autonotebook import tqdm as notebook_tqdm\n"
     ]
    }
   ],
   "source": [
    "import numpy as np\n",
    "import pandas as pd\n",
    "import matplotlib.pyplot as plt\n",
    "import seaborn as sns\n",
    "from sklearn.preprocessing import StandardScaler\n",
    "from sklearn.impute import SimpleImputer\n",
    "from sklearn.model_selection import train_test_split, GridSearchCV, cross_val_predict, KFold, StratifiedKFold\n",
    "from sklearn.pipeline import Pipeline\n",
    "from sklearn.neighbors import KNeighborsClassifier\n",
    "from sklearn.ensemble import RandomForestClassifier, ExtraTreesClassifier\n",
    "from sklearn.tree import DecisionTreeClassifier\n",
    "from sklearn.ensemble import AdaBoostClassifier\n",
    "from xgboost import XGBClassifier\n",
    "from sklearn.base import BaseEstimator, TransformerMixin\n",
    "from sklearn.preprocessing import OneHotEncoder\n",
    "from sklearn.pipeline import FeatureUnion\n",
    "from sklearn.metrics import roc_auc_score, precision_score, confusion_matrix\n",
    "from scipy import stats\n",
    "from sklearn.inspection import PartialDependenceDisplay\n",
    "import shap\n",
    "from imblearn.over_sampling import SMOTE"
   ],
   "metadata": {
    "collapsed": true,
    "ExecuteTime": {
     "end_time": "2024-04-29T20:44:51.294669Z",
     "start_time": "2024-04-29T20:44:46.696743Z"
    }
   },
   "id": "initial_id",
   "execution_count": 1
  },
  {
   "cell_type": "markdown",
   "source": [
    "    Load the training and test data into relevant data frames"
   ],
   "metadata": {
    "collapsed": false
   },
   "id": "fbb6712dc499ebf"
  },
  {
   "cell_type": "code",
   "outputs": [],
   "source": [
    "train_data = pd.read_csv('train.csv')\n",
    "test_data = pd.read_csv('test.csv')"
   ],
   "metadata": {
    "collapsed": false,
    "ExecuteTime": {
     "end_time": "2024-04-29T20:44:59.275560Z",
     "start_time": "2024-04-29T20:44:58.744522Z"
    }
   },
   "id": "8f9663be3b413524",
   "execution_count": 2
  },
  {
   "cell_type": "markdown",
   "source": [
    "Review the initial rows of the data frame"
   ],
   "metadata": {
    "collapsed": false
   },
   "id": "cf397ec2070e8251"
  },
  {
   "cell_type": "code",
   "outputs": [
    {
     "data": {
      "text/plain": "   id  CustomerId         Surname  CreditScore Geography Gender   Age  Tenure  \\\n0   0    15674932  Okwudilichukwu          668    France   Male  33.0       3   \n1   1    15749177   Okwudiliolisa          627    France   Male  33.0       1   \n2   2    15694510           Hsueh          678    France   Male  40.0      10   \n3   3    15741417             Kao          581    France   Male  34.0       2   \n4   4    15766172       Chiemenam          716     Spain   Male  33.0       5   \n\n     Balance  NumOfProducts  HasCrCard  IsActiveMember  EstimatedSalary  \\\n0       0.00              2        1.0             0.0        181449.97   \n1       0.00              2        1.0             1.0         49503.50   \n2       0.00              2        1.0             0.0        184866.69   \n3  148882.54              1        1.0             1.0         84560.88   \n4       0.00              2        1.0             1.0         15068.83   \n\n   Exited  \n0       0  \n1       0  \n2       0  \n3       0  \n4       0  ",
      "text/html": "<div>\n<style scoped>\n    .dataframe tbody tr th:only-of-type {\n        vertical-align: middle;\n    }\n\n    .dataframe tbody tr th {\n        vertical-align: top;\n    }\n\n    .dataframe thead th {\n        text-align: right;\n    }\n</style>\n<table border=\"1\" class=\"dataframe\">\n  <thead>\n    <tr style=\"text-align: right;\">\n      <th></th>\n      <th>id</th>\n      <th>CustomerId</th>\n      <th>Surname</th>\n      <th>CreditScore</th>\n      <th>Geography</th>\n      <th>Gender</th>\n      <th>Age</th>\n      <th>Tenure</th>\n      <th>Balance</th>\n      <th>NumOfProducts</th>\n      <th>HasCrCard</th>\n      <th>IsActiveMember</th>\n      <th>EstimatedSalary</th>\n      <th>Exited</th>\n    </tr>\n  </thead>\n  <tbody>\n    <tr>\n      <th>0</th>\n      <td>0</td>\n      <td>15674932</td>\n      <td>Okwudilichukwu</td>\n      <td>668</td>\n      <td>France</td>\n      <td>Male</td>\n      <td>33.0</td>\n      <td>3</td>\n      <td>0.00</td>\n      <td>2</td>\n      <td>1.0</td>\n      <td>0.0</td>\n      <td>181449.97</td>\n      <td>0</td>\n    </tr>\n    <tr>\n      <th>1</th>\n      <td>1</td>\n      <td>15749177</td>\n      <td>Okwudiliolisa</td>\n      <td>627</td>\n      <td>France</td>\n      <td>Male</td>\n      <td>33.0</td>\n      <td>1</td>\n      <td>0.00</td>\n      <td>2</td>\n      <td>1.0</td>\n      <td>1.0</td>\n      <td>49503.50</td>\n      <td>0</td>\n    </tr>\n    <tr>\n      <th>2</th>\n      <td>2</td>\n      <td>15694510</td>\n      <td>Hsueh</td>\n      <td>678</td>\n      <td>France</td>\n      <td>Male</td>\n      <td>40.0</td>\n      <td>10</td>\n      <td>0.00</td>\n      <td>2</td>\n      <td>1.0</td>\n      <td>0.0</td>\n      <td>184866.69</td>\n      <td>0</td>\n    </tr>\n    <tr>\n      <th>3</th>\n      <td>3</td>\n      <td>15741417</td>\n      <td>Kao</td>\n      <td>581</td>\n      <td>France</td>\n      <td>Male</td>\n      <td>34.0</td>\n      <td>2</td>\n      <td>148882.54</td>\n      <td>1</td>\n      <td>1.0</td>\n      <td>1.0</td>\n      <td>84560.88</td>\n      <td>0</td>\n    </tr>\n    <tr>\n      <th>4</th>\n      <td>4</td>\n      <td>15766172</td>\n      <td>Chiemenam</td>\n      <td>716</td>\n      <td>Spain</td>\n      <td>Male</td>\n      <td>33.0</td>\n      <td>5</td>\n      <td>0.00</td>\n      <td>2</td>\n      <td>1.0</td>\n      <td>1.0</td>\n      <td>15068.83</td>\n      <td>0</td>\n    </tr>\n  </tbody>\n</table>\n</div>"
     },
     "execution_count": 3,
     "metadata": {},
     "output_type": "execute_result"
    }
   ],
   "source": [
    "train_data.head()"
   ],
   "metadata": {
    "collapsed": false,
    "ExecuteTime": {
     "end_time": "2024-04-29T20:45:02.303109Z",
     "start_time": "2024-04-29T20:45:02.266196Z"
    }
   },
   "id": "fa89e043f34628bb",
   "execution_count": 3
  },
  {
   "cell_type": "markdown",
   "source": [
    "Review the dimensions of the data frame"
   ],
   "metadata": {
    "collapsed": false
   },
   "id": "19431b0a5f48e6a4"
  },
  {
   "cell_type": "code",
   "outputs": [
    {
     "data": {
      "text/plain": "(165034, 14)"
     },
     "execution_count": 4,
     "metadata": {},
     "output_type": "execute_result"
    }
   ],
   "source": [
    "train_data.shape"
   ],
   "metadata": {
    "collapsed": false,
    "ExecuteTime": {
     "end_time": "2024-04-20T07:09:37.361573Z",
     "start_time": "2024-04-20T07:09:37.338981Z"
    }
   },
   "id": "eacfe2f8bb4535fc",
   "execution_count": 4
  },
  {
   "cell_type": "markdown",
   "source": [
    "Check the data types of the features in the data frame"
   ],
   "metadata": {
    "collapsed": false
   },
   "id": "5b49ecd76f247292"
  },
  {
   "cell_type": "code",
   "outputs": [
    {
     "name": "stdout",
     "output_type": "stream",
     "text": [
      "<class 'pandas.core.frame.DataFrame'>\n",
      "RangeIndex: 165034 entries, 0 to 165033\n",
      "Data columns (total 14 columns):\n",
      " #   Column           Non-Null Count   Dtype  \n",
      "---  ------           --------------   -----  \n",
      " 0   id               165034 non-null  int64  \n",
      " 1   CustomerId       165034 non-null  int64  \n",
      " 2   Surname          165034 non-null  object \n",
      " 3   CreditScore      165034 non-null  int64  \n",
      " 4   Geography        165034 non-null  object \n",
      " 5   Gender           165034 non-null  object \n",
      " 6   Age              165034 non-null  float64\n",
      " 7   Tenure           165034 non-null  int64  \n",
      " 8   Balance          165034 non-null  float64\n",
      " 9   NumOfProducts    165034 non-null  int64  \n",
      " 10  HasCrCard        165034 non-null  float64\n",
      " 11  IsActiveMember   165034 non-null  float64\n",
      " 12  EstimatedSalary  165034 non-null  float64\n",
      " 13  Exited           165034 non-null  int64  \n",
      "dtypes: float64(5), int64(6), object(3)\n",
      "memory usage: 17.6+ MB\n"
     ]
    }
   ],
   "source": [
    "train_data.info()"
   ],
   "metadata": {
    "collapsed": false,
    "ExecuteTime": {
     "end_time": "2024-04-20T07:09:39.448035Z",
     "start_time": "2024-04-20T07:09:39.325628Z"
    }
   },
   "id": "b1418a22fb4d8da0",
   "execution_count": 5
  },
  {
   "cell_type": "markdown",
   "source": [
    "Check for duplicate values"
   ],
   "metadata": {
    "collapsed": false
   },
   "id": "bd700fd979873cd3"
  },
  {
   "cell_type": "code",
   "outputs": [
    {
     "data": {
      "text/plain": "0"
     },
     "execution_count": 6,
     "metadata": {},
     "output_type": "execute_result"
    }
   ],
   "source": [
    "train_data.duplicated().sum()"
   ],
   "metadata": {
    "collapsed": false,
    "ExecuteTime": {
     "end_time": "2024-04-20T07:09:41.730531Z",
     "start_time": "2024-04-20T07:09:41.455977Z"
    }
   },
   "id": "eb5b6e2e453d048e",
   "execution_count": 6
  },
  {
   "cell_type": "markdown",
   "source": [
    "Perform descriptive statistics on the data"
   ],
   "metadata": {
    "collapsed": false
   },
   "id": "a46118878fd60f89"
  },
  {
   "cell_type": "code",
   "outputs": [
    {
     "data": {
      "text/plain": "                id    CustomerId    CreditScore            Age         Tenure  \\\ncount  165034.0000  1.650340e+05  165034.000000  165034.000000  165034.000000   \nmean    82516.5000  1.569201e+07     656.454373      38.125888       5.020353   \nstd     47641.3565  7.139782e+04      80.103340       8.867205       2.806159   \nmin         0.0000  1.556570e+07     350.000000      18.000000       0.000000   \n25%     41258.2500  1.563314e+07     597.000000      32.000000       3.000000   \n50%     82516.5000  1.569017e+07     659.000000      37.000000       5.000000   \n75%    123774.7500  1.575682e+07     710.000000      42.000000       7.000000   \nmax    165033.0000  1.581569e+07     850.000000      92.000000      10.000000   \n\n             Balance  NumOfProducts      HasCrCard  IsActiveMember  \\\ncount  165034.000000  165034.000000  165034.000000   165034.000000   \nmean    55478.086689       1.554455       0.753954        0.497770   \nstd     62817.663278       0.547154       0.430707        0.499997   \nmin         0.000000       1.000000       0.000000        0.000000   \n25%         0.000000       1.000000       1.000000        0.000000   \n50%         0.000000       2.000000       1.000000        0.000000   \n75%    119939.517500       2.000000       1.000000        1.000000   \nmax    250898.090000       4.000000       1.000000        1.000000   \n\n       EstimatedSalary         Exited  \ncount    165034.000000  165034.000000  \nmean     112574.822734       0.211599  \nstd       50292.865585       0.408443  \nmin          11.580000       0.000000  \n25%       74637.570000       0.000000  \n50%      117948.000000       0.000000  \n75%      155152.467500       0.000000  \nmax      199992.480000       1.000000  ",
      "text/html": "<div>\n<style scoped>\n    .dataframe tbody tr th:only-of-type {\n        vertical-align: middle;\n    }\n\n    .dataframe tbody tr th {\n        vertical-align: top;\n    }\n\n    .dataframe thead th {\n        text-align: right;\n    }\n</style>\n<table border=\"1\" class=\"dataframe\">\n  <thead>\n    <tr style=\"text-align: right;\">\n      <th></th>\n      <th>id</th>\n      <th>CustomerId</th>\n      <th>CreditScore</th>\n      <th>Age</th>\n      <th>Tenure</th>\n      <th>Balance</th>\n      <th>NumOfProducts</th>\n      <th>HasCrCard</th>\n      <th>IsActiveMember</th>\n      <th>EstimatedSalary</th>\n      <th>Exited</th>\n    </tr>\n  </thead>\n  <tbody>\n    <tr>\n      <th>count</th>\n      <td>165034.0000</td>\n      <td>1.650340e+05</td>\n      <td>165034.000000</td>\n      <td>165034.000000</td>\n      <td>165034.000000</td>\n      <td>165034.000000</td>\n      <td>165034.000000</td>\n      <td>165034.000000</td>\n      <td>165034.000000</td>\n      <td>165034.000000</td>\n      <td>165034.000000</td>\n    </tr>\n    <tr>\n      <th>mean</th>\n      <td>82516.5000</td>\n      <td>1.569201e+07</td>\n      <td>656.454373</td>\n      <td>38.125888</td>\n      <td>5.020353</td>\n      <td>55478.086689</td>\n      <td>1.554455</td>\n      <td>0.753954</td>\n      <td>0.497770</td>\n      <td>112574.822734</td>\n      <td>0.211599</td>\n    </tr>\n    <tr>\n      <th>std</th>\n      <td>47641.3565</td>\n      <td>7.139782e+04</td>\n      <td>80.103340</td>\n      <td>8.867205</td>\n      <td>2.806159</td>\n      <td>62817.663278</td>\n      <td>0.547154</td>\n      <td>0.430707</td>\n      <td>0.499997</td>\n      <td>50292.865585</td>\n      <td>0.408443</td>\n    </tr>\n    <tr>\n      <th>min</th>\n      <td>0.0000</td>\n      <td>1.556570e+07</td>\n      <td>350.000000</td>\n      <td>18.000000</td>\n      <td>0.000000</td>\n      <td>0.000000</td>\n      <td>1.000000</td>\n      <td>0.000000</td>\n      <td>0.000000</td>\n      <td>11.580000</td>\n      <td>0.000000</td>\n    </tr>\n    <tr>\n      <th>25%</th>\n      <td>41258.2500</td>\n      <td>1.563314e+07</td>\n      <td>597.000000</td>\n      <td>32.000000</td>\n      <td>3.000000</td>\n      <td>0.000000</td>\n      <td>1.000000</td>\n      <td>1.000000</td>\n      <td>0.000000</td>\n      <td>74637.570000</td>\n      <td>0.000000</td>\n    </tr>\n    <tr>\n      <th>50%</th>\n      <td>82516.5000</td>\n      <td>1.569017e+07</td>\n      <td>659.000000</td>\n      <td>37.000000</td>\n      <td>5.000000</td>\n      <td>0.000000</td>\n      <td>2.000000</td>\n      <td>1.000000</td>\n      <td>0.000000</td>\n      <td>117948.000000</td>\n      <td>0.000000</td>\n    </tr>\n    <tr>\n      <th>75%</th>\n      <td>123774.7500</td>\n      <td>1.575682e+07</td>\n      <td>710.000000</td>\n      <td>42.000000</td>\n      <td>7.000000</td>\n      <td>119939.517500</td>\n      <td>2.000000</td>\n      <td>1.000000</td>\n      <td>1.000000</td>\n      <td>155152.467500</td>\n      <td>0.000000</td>\n    </tr>\n    <tr>\n      <th>max</th>\n      <td>165033.0000</td>\n      <td>1.581569e+07</td>\n      <td>850.000000</td>\n      <td>92.000000</td>\n      <td>10.000000</td>\n      <td>250898.090000</td>\n      <td>4.000000</td>\n      <td>1.000000</td>\n      <td>1.000000</td>\n      <td>199992.480000</td>\n      <td>1.000000</td>\n    </tr>\n  </tbody>\n</table>\n</div>"
     },
     "execution_count": 7,
     "metadata": {},
     "output_type": "execute_result"
    }
   ],
   "source": [
    "train_data.describe()"
   ],
   "metadata": {
    "collapsed": false,
    "ExecuteTime": {
     "end_time": "2024-04-20T07:09:43.627868Z",
     "start_time": "2024-04-20T07:09:43.408594Z"
    }
   },
   "id": "45162f4d7e8d2b19",
   "execution_count": 7
  },
  {
   "cell_type": "markdown",
   "source": [
    "Check the unique values in some numerical and categorical features"
   ],
   "metadata": {
    "collapsed": false
   },
   "id": "9ad80eb9a430d208"
  },
  {
   "cell_type": "code",
   "outputs": [
    {
     "data": {
      "text/plain": "Male      93150\nFemale    71884\nName: Gender, dtype: int64"
     },
     "execution_count": 8,
     "metadata": {},
     "output_type": "execute_result"
    }
   ],
   "source": [
    "train_data['Gender'].value_counts()"
   ],
   "metadata": {
    "collapsed": false,
    "ExecuteTime": {
     "end_time": "2024-04-20T07:09:45.781620Z",
     "start_time": "2024-04-20T07:09:45.748911Z"
    }
   },
   "id": "2e6cc8a5f4753465",
   "execution_count": 8
  },
  {
   "cell_type": "code",
   "outputs": [
    {
     "data": {
      "text/plain": "France     94215\nSpain      36213\nGermany    34606\nName: Geography, dtype: int64"
     },
     "execution_count": 9,
     "metadata": {},
     "output_type": "execute_result"
    }
   ],
   "source": [
    "train_data['Geography'].value_counts()"
   ],
   "metadata": {
    "collapsed": false,
    "ExecuteTime": {
     "end_time": "2024-04-20T07:09:47.070409Z",
     "start_time": "2024-04-20T07:09:47.040969Z"
    }
   },
   "id": "456767f655359f36",
   "execution_count": 9
  },
  {
   "cell_type": "code",
   "outputs": [
    {
     "data": {
      "text/plain": "2    84291\n1    77374\n3     2894\n4      475\nName: NumOfProducts, dtype: int64"
     },
     "execution_count": 10,
     "metadata": {},
     "output_type": "execute_result"
    }
   ],
   "source": [
    "train_data['NumOfProducts'].value_counts()"
   ],
   "metadata": {
    "collapsed": false,
    "ExecuteTime": {
     "end_time": "2024-04-20T07:09:47.323235Z",
     "start_time": "2024-04-20T07:09:47.306532Z"
    }
   },
   "id": "547eada39d51ffb5",
   "execution_count": 10
  },
  {
   "cell_type": "code",
   "outputs": [
    {
     "data": {
      "text/plain": "1.0    124428\n0.0     40606\nName: HasCrCard, dtype: int64"
     },
     "execution_count": 11,
     "metadata": {},
     "output_type": "execute_result"
    }
   ],
   "source": [
    "train_data['HasCrCard'].value_counts()"
   ],
   "metadata": {
    "collapsed": false,
    "ExecuteTime": {
     "end_time": "2024-04-20T07:09:48.396356Z",
     "start_time": "2024-04-20T07:09:48.378791Z"
    }
   },
   "id": "41dad693eb95129e",
   "execution_count": 11
  },
  {
   "cell_type": "code",
   "outputs": [
    {
     "data": {
      "text/plain": "0.0    82885\n1.0    82149\nName: IsActiveMember, dtype: int64"
     },
     "execution_count": 12,
     "metadata": {},
     "output_type": "execute_result"
    }
   ],
   "source": [
    "train_data[\"IsActiveMember\"].value_counts()"
   ],
   "metadata": {
    "collapsed": false,
    "ExecuteTime": {
     "end_time": "2024-04-20T07:09:49.198065Z",
     "start_time": "2024-04-20T07:09:49.179887Z"
    }
   },
   "id": "3ac0f9c651ee5f4c",
   "execution_count": 12
  },
  {
   "cell_type": "code",
   "outputs": [
    {
     "data": {
      "text/plain": "0    130113\n1     34921\nName: Exited, dtype: int64"
     },
     "execution_count": 13,
     "metadata": {},
     "output_type": "execute_result"
    }
   ],
   "source": [
    "train_data['Exited'].value_counts()"
   ],
   "metadata": {
    "collapsed": false,
    "ExecuteTime": {
     "end_time": "2024-04-20T07:09:50.133682Z",
     "start_time": "2024-04-20T07:09:50.118786Z"
    }
   },
   "id": "4f4c44351d47b1ca",
   "execution_count": 13
  },
  {
   "cell_type": "markdown",
   "source": [
    "As we can see above, there is a class imbalance. Class 1 represents only 21% of the data. We will have use an oversampling technique such as SMOTE to generate synthetic date."
   ],
   "metadata": {
    "collapsed": false
   },
   "id": "bfd1bb5eb6544940"
  },
  {
   "cell_type": "markdown",
   "source": [
    "Perform uni-variate analysis"
   ],
   "metadata": {
    "collapsed": false
   },
   "id": "9f13d3154eab8f56"
  },
  {
   "cell_type": "code",
   "outputs": [
    {
     "data": {
      "text/plain": "<Figure size 800x600 with 0 Axes>"
     },
     "metadata": {},
     "output_type": "display_data"
    },
    {
     "data": {
      "text/plain": "<Figure size 640x480 with 6 Axes>",
      "image/png": "[encoded data removed]"
     },
     "metadata": {},
     "output_type": "display_data"
    }
   ],
   "source": [
    "plt.figure(figsize=(8, 6))\n",
    "train_data[['CreditScore', 'Age', 'Tenure', 'Balance', 'NumOfProducts', 'EstimatedSalary']].hist(rwidth=0.8)\n",
    "plt.tight_layout() "
   ],
   "metadata": {
    "collapsed": false,
    "ExecuteTime": {
     "end_time": "2024-04-20T07:09:56.087974Z",
     "start_time": "2024-04-20T07:09:54.285058Z"
    }
   },
   "id": "4b2e217e80bd550b",
   "execution_count": 14
  },
  {
   "cell_type": "code",
   "outputs": [
    {
     "data": {
      "text/plain": "<Axes: >"
     },
     "execution_count": 15,
     "metadata": {},
     "output_type": "execute_result"
    },
    {
     "data": {
      "text/plain": "<Figure size 800x600 with 2 Axes>",
      "image/png": "[encoded data removed]"
     },
     "metadata": {},
     "output_type": "display_data"
    }
   ],
   "source": [
    "fig, (ax1, ax2) = plt.subplots(1, 2,figsize=(8, 6))\n",
    "train_data['Geography'].value_counts().plot(kind='bar', stacked=True, ax=ax1)\n",
    "train_data['Gender'].value_counts().plot(kind='bar', stacked=True, ax=ax2)"
   ],
   "metadata": {
    "collapsed": false,
    "ExecuteTime": {
     "end_time": "2024-04-20T07:09:57.440685Z",
     "start_time": "2024-04-20T07:09:56.743424Z"
    }
   },
   "id": "c72ef48fbe8c24bb",
   "execution_count": 15
  },
  {
   "cell_type": "markdown",
   "source": [
    "Perform Bi-variate analysis"
   ],
   "metadata": {
    "collapsed": false
   },
   "id": "e0f1f5c6b3de6e6c"
  },
  {
   "cell_type": "code",
   "outputs": [
    {
     "data": {
      "text/plain": "<Axes: xlabel='Geography', ylabel='count'>"
     },
     "execution_count": 16,
     "metadata": {},
     "output_type": "execute_result"
    },
    {
     "data": {
      "text/plain": "<Figure size 1000x800 with 2 Axes>",
      "image/png": "[encoded data removed]"
     },
     "metadata": {},
     "output_type": "display_data"
    }
   ],
   "source": [
    "fig, (ax1, ax2) = plt.subplots(1,2, figsize=(10, 8))\n",
    "sns.countplot(x='Gender', hue='Exited', data=train_data, ax=ax1)\n",
    "sns.countplot(x='Geography', hue='Exited', data=train_data, ax=ax2)"
   ],
   "metadata": {
    "collapsed": false,
    "ExecuteTime": {
     "end_time": "2024-04-20T07:10:00.599434Z",
     "start_time": "2024-04-20T07:09:58.832730Z"
    }
   },
   "id": "e77f40708206b35d",
   "execution_count": 16
  },
  {
   "cell_type": "code",
   "outputs": [
    {
     "data": {
      "text/plain": "<Figure size 1200x800 with 8 Axes>",
      "image/png": "[encoded data removed]"
     },
     "metadata": {},
     "output_type": "display_data"
    }
   ],
   "source": [
    "columns_to_plot = ['CreditScore', 'Age', 'Tenure', 'Balance', 'NumOfProducts', 'HasCrCard', 'IsActiveMember', 'EstimatedSalary']\n",
    "plt.figure(figsize=(12, 8))  # Adjust the figure size as needed\n",
    "\n",
    "for column in columns_to_plot:\n",
    "    plt.subplot(2, 4, columns_to_plot.index(column) + 1)  # Adjust the subplot arrangement\n",
    "    sns.boxplot(data=train_data, x=\"Exited\", y=column)\n",
    "    plt.title(column)\n",
    "\n",
    "plt.tight_layout()  # Adjust the layout to prevent overlap\n",
    "plt.show()"
   ],
   "metadata": {
    "collapsed": false,
    "ExecuteTime": {
     "end_time": "2024-04-20T07:10:06.075698Z",
     "start_time": "2024-04-20T07:10:01.072361Z"
    }
   },
   "id": "c855f726775d1661",
   "execution_count": 17
  },
  {
   "cell_type": "markdown",
   "source": [
    "Compute point-bi-serial correlation coefficients of numerical features with respect the binary target variable"
   ],
   "metadata": {
    "collapsed": false
   },
   "id": "c5f48e441d901d8d"
  },
  {
   "cell_type": "code",
   "outputs": [
    {
     "name": "stdout",
     "output_type": "stream",
     "text": [
      "Exited: 1.00\n",
      "Age: 0.34\n",
      "NumOfProducts: -0.21\n",
      "IsActiveMember: -0.21\n",
      "Balance: 0.13\n",
      "CreditScore: -0.03\n",
      "HasCrCard: -0.02\n",
      "Tenure: -0.02\n",
      "EstimatedSalary: 0.02\n"
     ]
    }
   ],
   "source": [
    "columns_cf = ['CreditScore', 'Age', 'Tenure', 'Balance', 'NumOfProducts', 'HasCrCard',\n",
    "                   'IsActiveMember', 'EstimatedSalary', 'Exited']\n",
    "\n",
    "point_biserial_correlations = {}\n",
    "\n",
    "for column in columns_cf:\n",
    "    corr_coeff, p_value = stats.pointbiserialr(train_data[column], train_data['Exited'])\n",
    "    point_biserial_correlations[column] = corr_coeff\n",
    "\n",
    "# Sort correlations in descending order\n",
    "sorted_correlations = sorted(point_biserial_correlations.items(), key=lambda x: abs(x[1]), reverse=True)\n",
    "\n",
    "# Print correlations\n",
    "for feature, correlation in sorted_correlations:\n",
    "    print(f\"{feature}: {correlation:.2f}\")"
   ],
   "metadata": {
    "collapsed": false,
    "ExecuteTime": {
     "end_time": "2024-04-20T07:10:09.354950Z",
     "start_time": "2024-04-20T07:10:09.216192Z"
    }
   },
   "id": "c08e0e952ccd72ff",
   "execution_count": 18
  },
  {
   "cell_type": "markdown",
   "source": [
    "Feature Engineering"
   ],
   "metadata": {
    "collapsed": false
   },
   "id": "c89fed89e23ef6ce"
  },
  {
   "cell_type": "code",
   "outputs": [
    {
     "data": {
      "text/plain": "   id  CustomerId         Surname  CreditScore Geography Gender   Age  Tenure  \\\n0   0    15674932  Okwudilichukwu          668    France   Male  33.0       3   \n1   1    15749177   Okwudiliolisa          627    France   Male  33.0       1   \n2   2    15694510           Hsueh          678    France   Male  40.0      10   \n3   3    15741417             Kao          581    France   Male  34.0       2   \n4   4    15766172       Chiemenam          716     Spain   Male  33.0       5   \n\n     Balance  NumOfProducts  HasCrCard  IsActiveMember  EstimatedSalary  \\\n0       0.00              2        1.0             0.0        181449.97   \n1       0.00              2        1.0             1.0         49503.50   \n2       0.00              2        1.0             0.0        184866.69   \n3  148882.54              1        1.0             1.0         84560.88   \n4       0.00              2        1.0             1.0         15068.83   \n\n   Exited  Balance_to_Salary  \n0       0           0.000000  \n1       0           0.000000  \n2       0           0.000000  \n3       0           1.760655  \n4       0           0.000000  ",
      "text/html": "<div>\n<style scoped>\n    .dataframe tbody tr th:only-of-type {\n        vertical-align: middle;\n    }\n\n    .dataframe tbody tr th {\n        vertical-align: top;\n    }\n\n    .dataframe thead th {\n        text-align: right;\n    }\n</style>\n<table border=\"1\" class=\"dataframe\">\n  <thead>\n    <tr style=\"text-align: right;\">\n      <th></th>\n      <th>id</th>\n      <th>CustomerId</th>\n      <th>Surname</th>\n      <th>CreditScore</th>\n      <th>Geography</th>\n      <th>Gender</th>\n      <th>Age</th>\n      <th>Tenure</th>\n      <th>Balance</th>\n      <th>NumOfProducts</th>\n      <th>HasCrCard</th>\n      <th>IsActiveMember</th>\n      <th>EstimatedSalary</th>\n      <th>Exited</th>\n      <th>Balance_to_Salary</th>\n    </tr>\n  </thead>\n  <tbody>\n    <tr>\n      <th>0</th>\n      <td>0</td>\n      <td>15674932</td>\n      <td>Okwudilichukwu</td>\n      <td>668</td>\n      <td>France</td>\n      <td>Male</td>\n      <td>33.0</td>\n      <td>3</td>\n      <td>0.00</td>\n      <td>2</td>\n      <td>1.0</td>\n      <td>0.0</td>\n      <td>181449.97</td>\n      <td>0</td>\n      <td>0.000000</td>\n    </tr>\n    <tr>\n      <th>1</th>\n      <td>1</td>\n      <td>15749177</td>\n      <td>Okwudiliolisa</td>\n      <td>627</td>\n      <td>France</td>\n      <td>Male</td>\n      <td>33.0</td>\n      <td>1</td>\n      <td>0.00</td>\n      <td>2</td>\n      <td>1.0</td>\n      <td>1.0</td>\n      <td>49503.50</td>\n      <td>0</td>\n      <td>0.000000</td>\n    </tr>\n    <tr>\n      <th>2</th>\n      <td>2</td>\n      <td>15694510</td>\n      <td>Hsueh</td>\n      <td>678</td>\n      <td>France</td>\n      <td>Male</td>\n      <td>40.0</td>\n      <td>10</td>\n      <td>0.00</td>\n      <td>2</td>\n      <td>1.0</td>\n      <td>0.0</td>\n      <td>184866.69</td>\n      <td>0</td>\n      <td>0.000000</td>\n    </tr>\n    <tr>\n      <th>3</th>\n      <td>3</td>\n      <td>15741417</td>\n      <td>Kao</td>\n      <td>581</td>\n      <td>France</td>\n      <td>Male</td>\n      <td>34.0</td>\n      <td>2</td>\n      <td>148882.54</td>\n      <td>1</td>\n      <td>1.0</td>\n      <td>1.0</td>\n      <td>84560.88</td>\n      <td>0</td>\n      <td>1.760655</td>\n    </tr>\n    <tr>\n      <th>4</th>\n      <td>4</td>\n      <td>15766172</td>\n      <td>Chiemenam</td>\n      <td>716</td>\n      <td>Spain</td>\n      <td>Male</td>\n      <td>33.0</td>\n      <td>5</td>\n      <td>0.00</td>\n      <td>2</td>\n      <td>1.0</td>\n      <td>1.0</td>\n      <td>15068.83</td>\n      <td>0</td>\n      <td>0.000000</td>\n    </tr>\n  </tbody>\n</table>\n</div>"
     },
     "execution_count": 19,
     "metadata": {},
     "output_type": "execute_result"
    }
   ],
   "source": [
    "train_data['Balance_to_Salary'] = train_data['Balance']/train_data['EstimatedSalary']\n",
    "train_data.head()"
   ],
   "metadata": {
    "collapsed": false,
    "ExecuteTime": {
     "end_time": "2024-04-20T07:10:11.989116Z",
     "start_time": "2024-04-20T07:10:11.962492Z"
    }
   },
   "id": "ecfa419237c2668d",
   "execution_count": 19
  },
  {
   "cell_type": "markdown",
   "source": [
    "Create a custom transformer to select specific features from the data frame, and then create pipelines for numerical and categorical features."
   ],
   "metadata": {
    "collapsed": false
   },
   "id": "8ed7d5728e3f8679"
  },
  {
   "cell_type": "code",
   "outputs": [],
   "source": [
    "class DataFrameSelector(BaseEstimator, TransformerMixin):\n",
    "    def __init__(self, attribute_names):\n",
    "        self.attribute_names = attribute_names\n",
    "    def fit(self, X, y=None):\n",
    "        return self\n",
    "    def transform(self, X):\n",
    "        return X[self.attribute_names]"
   ],
   "metadata": {
    "collapsed": false,
    "ExecuteTime": {
     "end_time": "2024-04-20T07:10:14.675461Z",
     "start_time": "2024-04-20T07:10:14.668263Z"
    }
   },
   "id": "c2407311ff6fdeb8",
   "execution_count": 20
  },
  {
   "cell_type": "code",
   "outputs": [],
   "source": [
    "num_pipeline = Pipeline([\n",
    "    (\"select_numerical\", DataFrameSelector(['CreditScore', 'Age', 'Tenure', 'Balance', 'NumOfProducts', 'HasCrCard', 'IsActiveMember', 'EstimatedSalary', 'Balance_to_Salary'])),\n",
    "    (\"imputer\", SimpleImputer(strategy=\"median\")),\n",
    "    (\"standardizer\", StandardScaler())\n",
    "])"
   ],
   "metadata": {
    "collapsed": false,
    "ExecuteTime": {
     "end_time": "2024-04-20T07:10:15.424106Z",
     "start_time": "2024-04-20T07:10:15.416686Z"
    }
   },
   "id": "137bbdeea753ec41",
   "execution_count": 21
  },
  {
   "cell_type": "code",
   "outputs": [
    {
     "data": {
      "text/plain": "array([[ 1.44134588e-01, -5.78074336e-01, -7.19973392e-01, ...,\n        -9.95550213e-01,  1.36948561e+00, -2.29250798e-02],\n       [-3.67705792e-01, -5.78074336e-01, -1.43269365e+00, ...,\n         1.00446968e+00, -1.25408471e+00, -2.29250798e-02],\n       [ 2.68973705e-01,  2.11353847e-01,  1.77454751e+00, ...,\n        -9.95550213e-01,  1.43742230e+00, -2.29250798e-02],\n       ...,\n       [-1.14170832e+00, -8.03625246e-01, -7.25313374e-03, ...,\n         1.00446968e+00,  2.95365597e-01, -2.29250798e-02],\n       [-1.27903135e+00, -9.16400700e-01,  7.05467125e-01, ...,\n         1.00446968e+00, -8.23216528e-01,  1.84061160e-03],\n       [ 2.41620652e+00, -8.03625246e-01, -1.43269365e+00, ...,\n        -9.95550213e-01, -1.01392487e+00, -2.29250798e-02]])"
     },
     "execution_count": 22,
     "metadata": {},
     "output_type": "execute_result"
    }
   ],
   "source": [
    "num_pipeline.fit_transform(train_data)"
   ],
   "metadata": {
    "collapsed": false,
    "ExecuteTime": {
     "end_time": "2024-04-20T07:10:16.729640Z",
     "start_time": "2024-04-20T07:10:16.294384Z"
    }
   },
   "id": "d78eec52214073f4",
   "execution_count": 22
  },
  {
   "cell_type": "code",
   "outputs": [],
   "source": [
    "cat_pipeline = Pipeline([\n",
    "    (\"select_categorical\", DataFrameSelector(['Geography', 'Gender'])),\n",
    "    (\"imputer\", SimpleImputer(strategy=\"most_frequent\")),\n",
    "    (\"encoder\", OneHotEncoder(sparse_output=False))\n",
    "])"
   ],
   "metadata": {
    "collapsed": false,
    "ExecuteTime": {
     "end_time": "2024-04-20T07:10:17.623043Z",
     "start_time": "2024-04-20T07:10:17.615129Z"
    }
   },
   "id": "86be7921d609f274",
   "execution_count": 23
  },
  {
   "cell_type": "code",
   "outputs": [
    {
     "data": {
      "text/plain": "array([[1., 0., 0., 0., 1.],\n       [1., 0., 0., 0., 1.],\n       [1., 0., 0., 0., 1.],\n       ...,\n       [1., 0., 0., 0., 1.],\n       [0., 0., 1., 1., 0.],\n       [1., 0., 0., 0., 1.]])"
     },
     "execution_count": 24,
     "metadata": {},
     "output_type": "execute_result"
    }
   ],
   "source": [
    "cat_pipeline.fit_transform(train_data)"
   ],
   "metadata": {
    "collapsed": false,
    "ExecuteTime": {
     "end_time": "2024-04-20T07:10:18.776775Z",
     "start_time": "2024-04-20T07:10:18.559362Z"
    }
   },
   "id": "c41dcefef21a8bb0",
   "execution_count": 24
  },
  {
   "cell_type": "code",
   "outputs": [
    {
     "data": {
      "text/plain": "[array(['France', 'Germany', 'Spain'], dtype=object),\n array(['Female', 'Male'], dtype=object)]"
     },
     "execution_count": 25,
     "metadata": {},
     "output_type": "execute_result"
    }
   ],
   "source": [
    "categories = cat_pipeline.named_steps['encoder'].categories_\n",
    "categories"
   ],
   "metadata": {
    "collapsed": false,
    "ExecuteTime": {
     "end_time": "2024-04-20T07:10:19.082034Z",
     "start_time": "2024-04-20T07:10:19.071331Z"
    }
   },
   "id": "d6d7ae8a93035f94",
   "execution_count": 25
  },
  {
   "cell_type": "code",
   "outputs": [],
   "source": [
    "preprocess_pipeline = FeatureUnion(transformer_list=[\n",
    "    (\"num_pipeline\", num_pipeline),\n",
    "    (\"cat_pipeline\", cat_pipeline),\n",
    "])"
   ],
   "metadata": {
    "collapsed": false,
    "ExecuteTime": {
     "end_time": "2024-04-20T07:10:19.376908Z",
     "start_time": "2024-04-20T07:10:19.370172Z"
    }
   },
   "id": "6c4d7b6ebb1cb9e7",
   "execution_count": 26
  },
  {
   "cell_type": "code",
   "outputs": [
    {
     "data": {
      "text/plain": "array([[ 0.14413459, -0.57807434, -0.71997339, ...,  0.        ,\n         0.        ,  1.        ],\n       [-0.36770579, -0.57807434, -1.43269365, ...,  0.        ,\n         0.        ,  1.        ],\n       [ 0.2689737 ,  0.21135385,  1.77454751, ...,  0.        ,\n         0.        ,  1.        ],\n       ...,\n       [-1.14170832, -0.80362525, -0.00725313, ...,  0.        ,\n         0.        ,  1.        ],\n       [-1.27903135, -0.9164007 ,  0.70546712, ...,  1.        ,\n         1.        ,  0.        ],\n       [ 2.41620652, -0.80362525, -1.43269365, ...,  0.        ,\n         0.        ,  1.        ]])"
     },
     "execution_count": 27,
     "metadata": {},
     "output_type": "execute_result"
    }
   ],
   "source": [
    "X_train = preprocess_pipeline.fit_transform(train_data)\n",
    "X_train"
   ],
   "metadata": {
    "collapsed": false,
    "ExecuteTime": {
     "end_time": "2024-04-20T07:10:20.877135Z",
     "start_time": "2024-04-20T07:10:20.344500Z"
    }
   },
   "id": "4e30fdb1c05a4bc0",
   "execution_count": 27
  },
  {
   "cell_type": "code",
   "outputs": [
    {
     "data": {
      "text/plain": "0         0\n1         0\n2         0\n3         0\n4         0\n         ..\n165029    0\n165030    0\n165031    0\n165032    0\n165033    1\nName: Exited, Length: 165034, dtype: int64"
     },
     "execution_count": 28,
     "metadata": {},
     "output_type": "execute_result"
    }
   ],
   "source": [
    "y_train = train_data[\"Exited\"]\n",
    "y_train"
   ],
   "metadata": {
    "collapsed": false,
    "ExecuteTime": {
     "end_time": "2024-04-20T07:10:22.282242Z",
     "start_time": "2024-04-20T07:10:22.270269Z"
    }
   },
   "id": "2f772e1257b4bbbe",
   "execution_count": 28
  },
  {
   "cell_type": "markdown",
   "source": [
    "Apply oversampling technique SMOTE to generate synthetic data to tackle class imbalance"
   ],
   "metadata": {
    "collapsed": false
   },
   "id": "e93dd2f6125b3394"
  },
  {
   "cell_type": "code",
   "outputs": [
    {
     "name": "stdout",
     "output_type": "stream",
     "text": [
      "Resampled class distribution: [130113 130113]\n"
     ]
    }
   ],
   "source": [
    "smote = SMOTE(random_state=42)\n",
    "X_train, y_train = smote.fit_resample(X_train, y_train)\n",
    "\n",
    "# Check the new class distribution\n",
    "print(\"Resampled class distribution:\", np.bincount(y_train))"
   ],
   "metadata": {
    "collapsed": false,
    "ExecuteTime": {
     "end_time": "2024-04-20T07:10:29.939613Z",
     "start_time": "2024-04-20T07:10:25.730012Z"
    }
   },
   "id": "5de28e221eb1971e",
   "execution_count": 29
  },
  {
   "cell_type": "markdown",
   "source": [
    "Initialize classifiers to check which models perform better"
   ],
   "metadata": {
    "collapsed": false
   },
   "id": "56e281421007ed93"
  },
  {
   "cell_type": "code",
   "outputs": [],
   "source": [
    "kn = KNeighborsClassifier()\n",
    "rf = RandomForestClassifier(random_state=42)\n",
    "et = ExtraTreesClassifier(random_state=42)\n",
    "ab = AdaBoostClassifier(random_state=42)\n",
    "dt = DecisionTreeClassifier(random_state=42)\n",
    "xg = XGBClassifier(random_state=42)"
   ],
   "metadata": {
    "collapsed": false,
    "ExecuteTime": {
     "end_time": "2024-04-20T07:10:36.119079Z",
     "start_time": "2024-04-20T07:10:36.111347Z"
    }
   },
   "id": "962c8f105ebfaa40",
   "execution_count": 30
  },
  {
   "cell_type": "code",
   "outputs": [],
   "source": [
    "kf = StratifiedKFold(n_splits = 10, shuffle = True, random_state = 42)"
   ],
   "metadata": {
    "collapsed": false,
    "ExecuteTime": {
     "end_time": "2024-04-20T07:10:37.197581Z",
     "start_time": "2024-04-20T07:10:37.191236Z"
    }
   },
   "id": "da9ec6a9e6a10859",
   "execution_count": 31
  },
  {
   "cell_type": "markdown",
   "source": [
    "A good standard value for k in k-fold cross-validation is 10, as empirical evidence shows. Experiments by Ron Kohavi on various real-world dataset\n",
    "suggest that 10-fold cross-validation offers the best tradeoff between bias and variance"
   ],
   "metadata": {
    "collapsed": false
   },
   "id": "52df93db1e654393"
  },
  {
   "cell_type": "code",
   "outputs": [
    {
     "name": "stdout",
     "output_type": "stream",
     "text": [
      "Cross-Validation ROC AUC Score for KN: 0.9307874126090576\n"
     ]
    }
   ],
   "source": [
    "y_proba = cross_val_predict(kn, X_train, y_train, cv=10, method='predict_proba')\n",
    "roc_auc = roc_auc_score(y_train, y_proba[:, 1])\n",
    "print(\"Cross-Validation ROC AUC Score for KN:\", roc_auc)"
   ],
   "metadata": {
    "collapsed": false,
    "ExecuteTime": {
     "end_time": "2024-04-04T09:18:25.374682Z",
     "start_time": "2024-04-04T09:16:20.429630Z"
    }
   },
   "id": "35e7e7b3ca5c484",
   "execution_count": 68
  },
  {
   "cell_type": "code",
   "outputs": [
    {
     "name": "stdout",
     "output_type": "stream",
     "text": [
      "Cross-Validation ROC AUC Score for RF: 0.9636679016847967\n"
     ]
    }
   ],
   "source": [
    "y_proba = cross_val_predict(rf, X_train, y_train, cv=10, method='predict_proba')\n",
    "roc_auc = roc_auc_score(y_train, y_proba[:, 1])\n",
    "print(\"Cross-Validation ROC AUC Score for RF:\", roc_auc)"
   ],
   "metadata": {
    "collapsed": false,
    "ExecuteTime": {
     "end_time": "2024-04-04T09:29:33.660254Z",
     "start_time": "2024-04-04T09:18:25.385356Z"
    }
   },
   "id": "2331ed08ec99fb93",
   "execution_count": 69
  },
  {
   "cell_type": "code",
   "outputs": [
    {
     "name": "stdout",
     "output_type": "stream",
     "text": [
      "Cross-Validation ROC AUC Score for XT: 0.9705613648817577\n"
     ]
    }
   ],
   "source": [
    "y_proba = cross_val_predict(et, X_train, y_train, cv=10, method='predict_proba')\n",
    "roc_auc = roc_auc_score(y_train, y_proba[:, 1])\n",
    "print(\"Cross-Validation ROC AUC Score for XT:\", roc_auc)"
   ],
   "metadata": {
    "collapsed": false,
    "ExecuteTime": {
     "end_time": "2024-04-04T09:35:20.050022Z",
     "start_time": "2024-04-04T09:29:33.671655Z"
    }
   },
   "id": "63211361a50398e8",
   "execution_count": 70
  },
  {
   "cell_type": "code",
   "outputs": [
    {
     "name": "stderr",
     "output_type": "stream",
     "text": [
      "C:\\Users\\Hp\\anaconda3\\Lib\\site-packages\\sklearn\\ensemble\\_weight_boosting.py:519: FutureWarning: The SAMME.R algorithm (the default) is deprecated and will be removed in 1.6. Use the SAMME algorithm to circumvent this warning.\n",
      "  warnings.warn(\n",
      "C:\\Users\\Hp\\anaconda3\\Lib\\site-packages\\sklearn\\ensemble\\_weight_boosting.py:519: FutureWarning: The SAMME.R algorithm (the default) is deprecated and will be removed in 1.6. Use the SAMME algorithm to circumvent this warning.\n",
      "  warnings.warn(\n",
      "C:\\Users\\Hp\\anaconda3\\Lib\\site-packages\\sklearn\\ensemble\\_weight_boosting.py:519: FutureWarning: The SAMME.R algorithm (the default) is deprecated and will be removed in 1.6. Use the SAMME algorithm to circumvent this warning.\n",
      "  warnings.warn(\n",
      "C:\\Users\\Hp\\anaconda3\\Lib\\site-packages\\sklearn\\ensemble\\_weight_boosting.py:519: FutureWarning: The SAMME.R algorithm (the default) is deprecated and will be removed in 1.6. Use the SAMME algorithm to circumvent this warning.\n",
      "  warnings.warn(\n",
      "C:\\Users\\Hp\\anaconda3\\Lib\\site-packages\\sklearn\\ensemble\\_weight_boosting.py:519: FutureWarning: The SAMME.R algorithm (the default) is deprecated and will be removed in 1.6. Use the SAMME algorithm to circumvent this warning.\n",
      "  warnings.warn(\n",
      "C:\\Users\\Hp\\anaconda3\\Lib\\site-packages\\sklearn\\ensemble\\_weight_boosting.py:519: FutureWarning: The SAMME.R algorithm (the default) is deprecated and will be removed in 1.6. Use the SAMME algorithm to circumvent this warning.\n",
      "  warnings.warn(\n",
      "C:\\Users\\Hp\\anaconda3\\Lib\\site-packages\\sklearn\\ensemble\\_weight_boosting.py:519: FutureWarning: The SAMME.R algorithm (the default) is deprecated and will be removed in 1.6. Use the SAMME algorithm to circumvent this warning.\n",
      "  warnings.warn(\n",
      "C:\\Users\\Hp\\anaconda3\\Lib\\site-packages\\sklearn\\ensemble\\_weight_boosting.py:519: FutureWarning: The SAMME.R algorithm (the default) is deprecated and will be removed in 1.6. Use the SAMME algorithm to circumvent this warning.\n",
      "  warnings.warn(\n",
      "C:\\Users\\Hp\\anaconda3\\Lib\\site-packages\\sklearn\\ensemble\\_weight_boosting.py:519: FutureWarning: The SAMME.R algorithm (the default) is deprecated and will be removed in 1.6. Use the SAMME algorithm to circumvent this warning.\n",
      "  warnings.warn(\n",
      "C:\\Users\\Hp\\anaconda3\\Lib\\site-packages\\sklearn\\ensemble\\_weight_boosting.py:519: FutureWarning: The SAMME.R algorithm (the default) is deprecated and will be removed in 1.6. Use the SAMME algorithm to circumvent this warning.\n",
      "  warnings.warn(\n"
     ]
    },
    {
     "name": "stdout",
     "output_type": "stream",
     "text": [
      "Cross-Validation ROC AUC Score for AB: 0.9008086096227306\n"
     ]
    }
   ],
   "source": [
    "y_proba = cross_val_predict(ab, X_train, y_train, cv=10, method='predict_proba')\n",
    "roc_auc = roc_auc_score(y_train, y_proba[:, 1])\n",
    "print(\"Cross-Validation ROC AUC Score for AB:\", roc_auc)"
   ],
   "metadata": {
    "collapsed": false,
    "ExecuteTime": {
     "end_time": "2024-04-04T09:37:54.401214Z",
     "start_time": "2024-04-04T09:35:20.079363Z"
    }
   },
   "id": "388b66006304d5b7",
   "execution_count": 71
  },
  {
   "cell_type": "code",
   "outputs": [
    {
     "name": "stdout",
     "output_type": "stream",
     "text": [
      "Cross-Validation ROC AUC Score for DT: 0.8577441168823294\n"
     ]
    }
   ],
   "source": [
    "y_proba = cross_val_predict(dt, X_train, y_train, cv=10, method='predict_proba')\n",
    "roc_auc = roc_auc_score(y_train, y_proba[:, 1])\n",
    "print(\"Cross-Validation ROC AUC Score for DT:\", roc_auc)"
   ],
   "metadata": {
    "collapsed": false,
    "ExecuteTime": {
     "end_time": "2024-04-04T09:38:28.504611Z",
     "start_time": "2024-04-04T09:37:54.404276Z"
    }
   },
   "id": "70478b091114a51c",
   "execution_count": 72
  },
  {
   "cell_type": "code",
   "outputs": [
    {
     "name": "stdout",
     "output_type": "stream",
     "text": [
      "Cross-Validation ROC AUC Score for XGB: 0.9558999132345075\n"
     ]
    }
   ],
   "source": [
    "y_proba = cross_val_predict(xg, X_train, y_train, cv=10, method='predict_proba')\n",
    "roc_auc = roc_auc_score(y_train, y_proba[:, 1])\n",
    "print(\"Cross-Validation ROC AUC Score for XGB:\", roc_auc)"
   ],
   "metadata": {
    "collapsed": false,
    "ExecuteTime": {
     "end_time": "2024-04-04T09:38:43.661543Z",
     "start_time": "2024-04-04T09:38:28.507414Z"
    }
   },
   "id": "ea2b9ca1c2b915e4",
   "execution_count": 73
  },
  {
   "cell_type": "markdown",
   "source": [
    "Select RandomForest, Extra Trees and XGBoosting as their ROC AUC scores are above 0.85 for hyperparameter tuning"
   ],
   "metadata": {
    "collapsed": false
   },
   "id": "15a9822300828af6"
  },
  {
   "cell_type": "code",
   "outputs": [],
   "source": [
    "param_grid_rf = {\n",
    "    \"n_estimators\": [50, 100],\n",
    "    \"max_depth\": [None, 5],\n",
    "    \"random_state\": [42]\n",
    "}\n",
    "\n",
    "param_grid_et = {\n",
    "    \"n_estimators\": [50, 100],\n",
    "    \"max_depth\": [None, 5],\n",
    "    \"random_state\": [42]\n",
    "}\n",
    "\n",
    "param_grid_xg = {\n",
    "    'n_estimators': [50, 100],\n",
    "    'max_depth': [3, 5],\n",
    "    'learning_rate': [0.01, 0.1],\n",
    "    'random_state': [42]\n",
    "}\n",
    "\n",
    "# Create a dictionary with model names as keys and hyperparameter grids as values\n",
    "models_params = {\n",
    "    \"RandomForest:\": (rf, param_grid_rf),\n",
    "    \"ExtraTree\": (et, param_grid_et),\n",
    "    \"XGBoost\": (xg, param_grid_xg)\n",
    "}"
   ],
   "metadata": {
    "collapsed": false,
    "ExecuteTime": {
     "end_time": "2024-04-20T07:10:46.209164Z",
     "start_time": "2024-04-20T07:10:43.920681Z"
    }
   },
   "id": "77440c9cb1695e36",
   "execution_count": 32
  },
  {
   "cell_type": "markdown",
   "source": [
    "Perform hyperparameter tuning to select the optimal parameters"
   ],
   "metadata": {
    "collapsed": false
   },
   "id": "2c0fa0f2d0cba0cd"
  },
  {
   "cell_type": "code",
   "outputs": [],
   "source": [
    "for model_name, (model, param_grid) in models_params.items():\n",
    "    grid_search = GridSearchCV(model, param_grid = param_grid, cv = kf, scoring = \"roc_auc\")\n",
    "    grid_search.fit(X_train, y_train)\n",
    "    \n",
    "    print(f\"Best Hyperparameters for {model_name}:\", grid_search.best_params_)"
   ],
   "metadata": {
    "collapsed": false
   },
   "id": "d7b5df44fc3941db",
   "execution_count": null
  },
  {
   "cell_type": "markdown",
   "source": [
    "Fit the data to the better models with their respective optimal parameters to identify the best model"
   ],
   "metadata": {
    "collapsed": false
   },
   "id": "13ee58ef4b719b96"
  },
  {
   "cell_type": "code",
   "outputs": [],
   "source": [
    "fr = RandomForestClassifier(n_estimators = 100, max_depth = None, random_state = 42)\n",
    "et = ExtraTreesClassifier(n_estimators = 100, max_depth = None, random_state = 42)\n",
    "xg = XGBClassifier(n_estimators = 100, max_depth = 5, learning_rate = 0.1, random_state = 42)\n",
    "\n",
    "classifiers = [fr, et, xg]"
   ],
   "metadata": {
    "collapsed": false,
    "ExecuteTime": {
     "end_time": "2024-04-20T07:10:49.677756Z",
     "start_time": "2024-04-20T07:10:49.671496Z"
    }
   },
   "id": "35d08c206fa63214",
   "execution_count": 33
  },
  {
   "cell_type": "code",
   "outputs": [
    {
     "name": "stdout",
     "output_type": "stream",
     "text": [
      "Classifier: RandomForestClassifier(random_state=42)\n",
      "ROC AUC score: 0.963289027493175\n",
      "\n",
      "Classifier: ExtraTreesClassifier(random_state=42)\n",
      "ROC AUC score: 0.9691352976666237\n",
      "\n",
      "Classifier: XGBClassifier(base_score=None, booster=None, callbacks=None,\n",
      "              colsample_bylevel=None, colsample_bynode=None,\n",
      "              colsample_bytree=None, device=None, early_stopping_rounds=None,\n",
      "              enable_categorical=False, eval_metric=None, feature_types=None,\n",
      "              gamma=None, grow_policy=None, importance_type=None,\n",
      "              interaction_constraints=None, learning_rate=0.1, max_bin=None,\n",
      "              max_cat_threshold=None, max_cat_to_onehot=None,\n",
      "              max_delta_step=None, max_depth=5, max_leaves=None,\n",
      "              min_child_weight=None, missing=nan, monotone_constraints=None,\n",
      "              multi_strategy=None, n_estimators=100, n_jobs=None,\n",
      "              num_parallel_tree=None, random_state=42, ...)\n",
      "ROC AUC score: 0.9464063993977739\n"
     ]
    }
   ],
   "source": [
    "for classifier in classifiers:\n",
    "    y_proba = cross_val_predict(estimator=classifier, X=X_train, y=y_train, cv=kf, method=\"predict_proba\")\n",
    "    \n",
    "    # Compute ROC AUC score across all folds\n",
    "    score = roc_auc_score(y_train, y_proba[:, 1])\n",
    "    \n",
    "    print(f\"Classifier: {classifier}\")\n",
    "    print(f\"ROC AUC score: {score}\")\n",
    "    print(\"\\n\")"
   ],
   "metadata": {
    "collapsed": false,
    "ExecuteTime": {
     "end_time": "2024-04-04T10:35:47.943770Z",
     "start_time": "2024-04-04T10:23:01.622903Z"
    }
   },
   "id": "fde445eb007a6761",
   "execution_count": 84
  },
  {
   "cell_type": "markdown",
   "source": [
    "The Extra Tree classifier has the highest ROC AUC Score of 0.889, therefore we will use select this classifier on the train and test data"
   ],
   "metadata": {
    "collapsed": false
   },
   "id": "f370ad7d50959a7e"
  },
  {
   "cell_type": "code",
   "outputs": [],
   "source": [
    "X_t, X_holdout, y_t, y_holdout = train_test_split(X_train, y_train, test_size = 0.05, random_state = 42)"
   ],
   "metadata": {
    "collapsed": false,
    "ExecuteTime": {
     "end_time": "2024-04-20T07:10:54.975755Z",
     "start_time": "2024-04-20T07:10:54.901712Z"
    }
   },
   "id": "31c7eff563455e19",
   "execution_count": 34
  },
  {
   "cell_type": "markdown",
   "source": [
    "Keeping dev set at 5% as the dataset is large enough already"
   ],
   "metadata": {
    "collapsed": false
   },
   "id": "4800c23396607919"
  },
  {
   "cell_type": "code",
   "outputs": [
    {
     "name": "stdout",
     "output_type": "stream",
     "text": [
      "Train ROC AUC: 0.9999999422725349\n",
      "Train Precision: 1.0\n",
      "Holdout ROC AUC: 0.972232552553983\n",
      "Holdout Precision: 0.9028129185890758\n"
     ]
    }
   ],
   "source": [
    "et.fit(X_t, y_t)\n",
    "\n",
    "y_proba_train = et.predict_proba(X_t)\n",
    "train_roc_auc = roc_auc_score(y_t, y_proba_train[:, 1])\n",
    "train_precision = precision_score(y_t, et.predict(X_t))\n",
    "\n",
    "y_proba_holdout = et.predict_proba(X_holdout)\n",
    "holdout_roc_auc = roc_auc_score(y_holdout, y_proba_holdout[:, 1])\n",
    "holdout_precision = precision_score(y_holdout, et.predict(X_holdout))\n",
    "\n",
    "print(f\"Train ROC AUC: {train_roc_auc}\")\n",
    "print(f\"Train Precision: {train_precision}\")\n",
    "print(f\"Holdout ROC AUC: {holdout_roc_auc}\")\n",
    "print(f\"Holdout Precision: {holdout_precision}\")"
   ],
   "metadata": {
    "collapsed": false,
    "ExecuteTime": {
     "end_time": "2024-04-20T07:12:13.935196Z",
     "start_time": "2024-04-20T07:11:10.122166Z"
    }
   },
   "id": "390180a3960ff327",
   "execution_count": 35
  },
  {
   "cell_type": "code",
   "outputs": [
    {
     "name": "stdout",
     "output_type": "stream",
     "text": [
      "Confusion Matrix:\n",
      "[[5818  653]\n",
      " [ 475 6066]]\n",
      "True Positives: 6066\n",
      "True Negatives: 5818\n",
      "False Positives: 653\n",
      "False Negatives: 475\n"
     ]
    }
   ],
   "source": [
    "cm = confusion_matrix(y_holdout, et.predict(X_holdout))\n",
    "print(\"Confusion Matrix:\")\n",
    "print(cm)\n",
    "\n",
    "# Interpret the matrix\n",
    "TN = cm[0, 0]\n",
    "FP = cm[0, 1]\n",
    "FN = cm[1, 0]\n",
    "TP = cm[1, 1]\n",
    "\n",
    "print(\"True Positives:\", TP)\n",
    "print(\"True Negatives:\", TN)\n",
    "print(\"False Positives:\", FP)\n",
    "print(\"False Negatives:\", FN)"
   ],
   "metadata": {
    "collapsed": false,
    "ExecuteTime": {
     "end_time": "2024-04-20T07:12:14.655045Z",
     "start_time": "2024-04-20T07:12:13.948982Z"
    }
   },
   "id": "ac627fbdd59f4e13",
   "execution_count": 36
  },
  {
   "cell_type": "markdown",
   "source": [
    "Both scores on training and hold out datasets are relatively high, indicating that the classifier is performing well on both the training and holdout data. We will regularize the model by setting max_features to consider square root of the total features."
   ],
   "metadata": {
    "collapsed": false
   },
   "id": "b24f0cc0c6399f9a"
  },
  {
   "cell_type": "code",
   "outputs": [
    {
     "data": {
      "text/plain": "       id  CustomerId    Surname  CreditScore Geography  Gender   Age  Tenure  \\\n0  165034    15773898   Lucchese          586    France  Female  23.0       2   \n1  165035    15782418       Nott          683    France  Female  46.0       2   \n2  165036    15807120         K?          656    France  Female  34.0       7   \n3  165037    15808905  O'Donnell          681    France    Male  36.0       8   \n4  165038    15607314    Higgins          752   Germany    Male  38.0      10   \n\n     Balance  NumOfProducts  HasCrCard  IsActiveMember  EstimatedSalary  \n0       0.00              2        0.0             1.0        160976.75  \n1       0.00              1        1.0             0.0         72549.27  \n2       0.00              2        1.0             0.0        138882.09  \n3       0.00              1        1.0             0.0        113931.57  \n4  121263.62              1        1.0             0.0        139431.00  ",
      "text/html": "<div>\n<style scoped>\n    .dataframe tbody tr th:only-of-type {\n        vertical-align: middle;\n    }\n\n    .dataframe tbody tr th {\n        vertical-align: top;\n    }\n\n    .dataframe thead th {\n        text-align: right;\n    }\n</style>\n<table border=\"1\" class=\"dataframe\">\n  <thead>\n    <tr style=\"text-align: right;\">\n      <th></th>\n      <th>id</th>\n      <th>CustomerId</th>\n      <th>Surname</th>\n      <th>CreditScore</th>\n      <th>Geography</th>\n      <th>Gender</th>\n      <th>Age</th>\n      <th>Tenure</th>\n      <th>Balance</th>\n      <th>NumOfProducts</th>\n      <th>HasCrCard</th>\n      <th>IsActiveMember</th>\n      <th>EstimatedSalary</th>\n    </tr>\n  </thead>\n  <tbody>\n    <tr>\n      <th>0</th>\n      <td>165034</td>\n      <td>15773898</td>\n      <td>Lucchese</td>\n      <td>586</td>\n      <td>France</td>\n      <td>Female</td>\n      <td>23.0</td>\n      <td>2</td>\n      <td>0.00</td>\n      <td>2</td>\n      <td>0.0</td>\n      <td>1.0</td>\n      <td>160976.75</td>\n    </tr>\n    <tr>\n      <th>1</th>\n      <td>165035</td>\n      <td>15782418</td>\n      <td>Nott</td>\n      <td>683</td>\n      <td>France</td>\n      <td>Female</td>\n      <td>46.0</td>\n      <td>2</td>\n      <td>0.00</td>\n      <td>1</td>\n      <td>1.0</td>\n      <td>0.0</td>\n      <td>72549.27</td>\n    </tr>\n    <tr>\n      <th>2</th>\n      <td>165036</td>\n      <td>15807120</td>\n      <td>K?</td>\n      <td>656</td>\n      <td>France</td>\n      <td>Female</td>\n      <td>34.0</td>\n      <td>7</td>\n      <td>0.00</td>\n      <td>2</td>\n      <td>1.0</td>\n      <td>0.0</td>\n      <td>138882.09</td>\n    </tr>\n    <tr>\n      <th>3</th>\n      <td>165037</td>\n      <td>15808905</td>\n      <td>O'Donnell</td>\n      <td>681</td>\n      <td>France</td>\n      <td>Male</td>\n      <td>36.0</td>\n      <td>8</td>\n      <td>0.00</td>\n      <td>1</td>\n      <td>1.0</td>\n      <td>0.0</td>\n      <td>113931.57</td>\n    </tr>\n    <tr>\n      <th>4</th>\n      <td>165038</td>\n      <td>15607314</td>\n      <td>Higgins</td>\n      <td>752</td>\n      <td>Germany</td>\n      <td>Male</td>\n      <td>38.0</td>\n      <td>10</td>\n      <td>121263.62</td>\n      <td>1</td>\n      <td>1.0</td>\n      <td>0.0</td>\n      <td>139431.00</td>\n    </tr>\n  </tbody>\n</table>\n</div>"
     },
     "execution_count": 37,
     "metadata": {},
     "output_type": "execute_result"
    }
   ],
   "source": [
    "test_data.head()"
   ],
   "metadata": {
    "collapsed": false,
    "ExecuteTime": {
     "end_time": "2024-04-20T07:12:23.461653Z",
     "start_time": "2024-04-20T07:12:23.402395Z"
    }
   },
   "id": "b3c81e38eff7d88c",
   "execution_count": 37
  },
  {
   "cell_type": "code",
   "outputs": [
    {
     "data": {
      "text/plain": "       id  CustomerId    Surname  CreditScore Geography  Gender   Age  Tenure  \\\n0  165034    15773898   Lucchese          586    France  Female  23.0       2   \n1  165035    15782418       Nott          683    France  Female  46.0       2   \n2  165036    15807120         K?          656    France  Female  34.0       7   \n3  165037    15808905  O'Donnell          681    France    Male  36.0       8   \n4  165038    15607314    Higgins          752   Germany    Male  38.0      10   \n\n     Balance  NumOfProducts  HasCrCard  IsActiveMember  EstimatedSalary  \\\n0       0.00              2        0.0             1.0        160976.75   \n1       0.00              1        1.0             0.0         72549.27   \n2       0.00              2        1.0             0.0        138882.09   \n3       0.00              1        1.0             0.0        113931.57   \n4  121263.62              1        1.0             0.0        139431.00   \n\n   Balance_to_Salary  \n0           0.000000  \n1           0.000000  \n2           0.000000  \n3           0.000000  \n4           0.869703  ",
      "text/html": "<div>\n<style scoped>\n    .dataframe tbody tr th:only-of-type {\n        vertical-align: middle;\n    }\n\n    .dataframe tbody tr th {\n        vertical-align: top;\n    }\n\n    .dataframe thead th {\n        text-align: right;\n    }\n</style>\n<table border=\"1\" class=\"dataframe\">\n  <thead>\n    <tr style=\"text-align: right;\">\n      <th></th>\n      <th>id</th>\n      <th>CustomerId</th>\n      <th>Surname</th>\n      <th>CreditScore</th>\n      <th>Geography</th>\n      <th>Gender</th>\n      <th>Age</th>\n      <th>Tenure</th>\n      <th>Balance</th>\n      <th>NumOfProducts</th>\n      <th>HasCrCard</th>\n      <th>IsActiveMember</th>\n      <th>EstimatedSalary</th>\n      <th>Balance_to_Salary</th>\n    </tr>\n  </thead>\n  <tbody>\n    <tr>\n      <th>0</th>\n      <td>165034</td>\n      <td>15773898</td>\n      <td>Lucchese</td>\n      <td>586</td>\n      <td>France</td>\n      <td>Female</td>\n      <td>23.0</td>\n      <td>2</td>\n      <td>0.00</td>\n      <td>2</td>\n      <td>0.0</td>\n      <td>1.0</td>\n      <td>160976.75</td>\n      <td>0.000000</td>\n    </tr>\n    <tr>\n      <th>1</th>\n      <td>165035</td>\n      <td>15782418</td>\n      <td>Nott</td>\n      <td>683</td>\n      <td>France</td>\n      <td>Female</td>\n      <td>46.0</td>\n      <td>2</td>\n      <td>0.00</td>\n      <td>1</td>\n      <td>1.0</td>\n      <td>0.0</td>\n      <td>72549.27</td>\n      <td>0.000000</td>\n    </tr>\n    <tr>\n      <th>2</th>\n      <td>165036</td>\n      <td>15807120</td>\n      <td>K?</td>\n      <td>656</td>\n      <td>France</td>\n      <td>Female</td>\n      <td>34.0</td>\n      <td>7</td>\n      <td>0.00</td>\n      <td>2</td>\n      <td>1.0</td>\n      <td>0.0</td>\n      <td>138882.09</td>\n      <td>0.000000</td>\n    </tr>\n    <tr>\n      <th>3</th>\n      <td>165037</td>\n      <td>15808905</td>\n      <td>O'Donnell</td>\n      <td>681</td>\n      <td>France</td>\n      <td>Male</td>\n      <td>36.0</td>\n      <td>8</td>\n      <td>0.00</td>\n      <td>1</td>\n      <td>1.0</td>\n      <td>0.0</td>\n      <td>113931.57</td>\n      <td>0.000000</td>\n    </tr>\n    <tr>\n      <th>4</th>\n      <td>165038</td>\n      <td>15607314</td>\n      <td>Higgins</td>\n      <td>752</td>\n      <td>Germany</td>\n      <td>Male</td>\n      <td>38.0</td>\n      <td>10</td>\n      <td>121263.62</td>\n      <td>1</td>\n      <td>1.0</td>\n      <td>0.0</td>\n      <td>139431.00</td>\n      <td>0.869703</td>\n    </tr>\n  </tbody>\n</table>\n</div>"
     },
     "execution_count": 38,
     "metadata": {},
     "output_type": "execute_result"
    }
   ],
   "source": [
    "test_data['Balance_to_Salary'] = test_data['Balance']/test_data['EstimatedSalary']\n",
    "test_data.head()"
   ],
   "metadata": {
    "collapsed": false,
    "ExecuteTime": {
     "end_time": "2024-04-20T07:12:27.599810Z",
     "start_time": "2024-04-20T07:12:27.568591Z"
    }
   },
   "id": "3dd10a254dc7daac",
   "execution_count": 38
  },
  {
   "cell_type": "code",
   "outputs": [
    {
     "data": {
      "text/plain": "array([[-0.87954617, -1.70582888, -1.07633352, ...,  0.        ,\n         1.        ,  0.        ],\n       [ 0.33139326,  0.88800657, -1.07633352, ...,  0.        ,\n         1.        ,  0.        ],\n       [-0.00567235, -0.46529888,  0.70546712, ...,  0.        ,\n         1.        ,  0.        ],\n       ...,\n       [ 0.6934267 , -0.80362525, -1.07633352, ...,  0.        ,\n         0.        ,  1.        ],\n       [ 0.65597497, -0.69084979, -0.71997339, ...,  0.        ,\n         1.        ,  0.        ],\n       [-0.44260926, -0.12697252,  0.70546712, ...,  0.        ,\n         1.        ,  0.        ]])"
     },
     "execution_count": 39,
     "metadata": {},
     "output_type": "execute_result"
    }
   ],
   "source": [
    "X_test = preprocess_pipeline.transform(test_data)\n",
    "X_test"
   ],
   "metadata": {
    "collapsed": false,
    "ExecuteTime": {
     "end_time": "2024-04-20T07:12:31.144523Z",
     "start_time": "2024-04-20T07:12:31.003089Z"
    }
   },
   "id": "31a93e5ecd762fa2",
   "execution_count": 39
  },
  {
   "cell_type": "code",
   "outputs": [],
   "source": [
    "predictions = et.predict_proba(X_test)\n",
    "churn_prob = predictions[:, 1]"
   ],
   "metadata": {
    "collapsed": false,
    "ExecuteTime": {
     "end_time": "2024-04-20T07:12:42.716066Z",
     "start_time": "2024-04-20T07:12:34.721694Z"
    }
   },
   "id": "b91f725152bb598d",
   "execution_count": 40
  },
  {
   "cell_type": "code",
   "outputs": [
    {
     "data": {
      "text/plain": "0         165034\n1         165035\n2         165036\n3         165037\n4         165038\n           ...  \n110018    275052\n110019    275053\n110020    275054\n110021    275055\n110022    275056\nName: id, Length: 110023, dtype: int64"
     },
     "execution_count": 41,
     "metadata": {},
     "output_type": "execute_result"
    }
   ],
   "source": [
    "test_data[\"id\"]"
   ],
   "metadata": {
    "collapsed": false,
    "ExecuteTime": {
     "end_time": "2024-04-20T07:12:42.731847Z",
     "start_time": "2024-04-20T07:12:42.721015Z"
    }
   },
   "id": "d77848b772862433",
   "execution_count": 41
  },
  {
   "cell_type": "code",
   "outputs": [],
   "source": [
    "result = pd.concat([test_data[\"id\"].reset_index(drop=True), pd.Series(churn_prob)], axis=1)"
   ],
   "metadata": {
    "collapsed": false,
    "ExecuteTime": {
     "end_time": "2024-04-20T07:12:42.831089Z",
     "start_time": "2024-04-20T07:12:42.735556Z"
    }
   },
   "id": "e6de2df8d04e7e6f",
   "execution_count": 42
  },
  {
   "cell_type": "code",
   "outputs": [
    {
     "data": {
      "text/plain": "       id     0\n0  165034  0.01\n1  165035  0.96\n2  165036  0.02\n3  165037  0.26\n4  165038  0.47",
      "text/html": "<div>\n<style scoped>\n    .dataframe tbody tr th:only-of-type {\n        vertical-align: middle;\n    }\n\n    .dataframe tbody tr th {\n        vertical-align: top;\n    }\n\n    .dataframe thead th {\n        text-align: right;\n    }\n</style>\n<table border=\"1\" class=\"dataframe\">\n  <thead>\n    <tr style=\"text-align: right;\">\n      <th></th>\n      <th>id</th>\n      <th>0</th>\n    </tr>\n  </thead>\n  <tbody>\n    <tr>\n      <th>0</th>\n      <td>165034</td>\n      <td>0.01</td>\n    </tr>\n    <tr>\n      <th>1</th>\n      <td>165035</td>\n      <td>0.96</td>\n    </tr>\n    <tr>\n      <th>2</th>\n      <td>165036</td>\n      <td>0.02</td>\n    </tr>\n    <tr>\n      <th>3</th>\n      <td>165037</td>\n      <td>0.26</td>\n    </tr>\n    <tr>\n      <th>4</th>\n      <td>165038</td>\n      <td>0.47</td>\n    </tr>\n  </tbody>\n</table>\n</div>"
     },
     "execution_count": 43,
     "metadata": {},
     "output_type": "execute_result"
    }
   ],
   "source": [
    "result.head()"
   ],
   "metadata": {
    "collapsed": false,
    "ExecuteTime": {
     "end_time": "2024-04-20T07:12:42.979538Z",
     "start_time": "2024-04-20T07:12:42.835157Z"
    }
   },
   "id": "ba8ef9bbdea8c111",
   "execution_count": 43
  },
  {
   "cell_type": "code",
   "outputs": [],
   "source": [
    "result.to_csv('result.csv', index=False)"
   ],
   "metadata": {
    "collapsed": false,
    "ExecuteTime": {
     "end_time": "2024-04-20T07:12:45.357145Z",
     "start_time": "2024-04-20T07:12:45.115840Z"
    }
   },
   "id": "a888db1814f58ffa",
   "execution_count": 44
  },
  {
   "cell_type": "markdown",
   "source": [
    "Implement Stacking and Blending"
   ],
   "metadata": {
    "collapsed": false
   },
   "id": "90cc137055add82d"
  },
  {
   "cell_type": "code",
   "outputs": [],
   "source": [
    "fitted_classifiers = []\n",
    "for classifier in classifiers:\n",
    "    classifier.fit(X_t, y_t)\n",
    "    fitted_classifiers.append(classifier)"
   ],
   "metadata": {
    "collapsed": false,
    "ExecuteTime": {
     "end_time": "2024-04-04T10:43:15.600940Z",
     "start_time": "2024-04-04T10:42:06.194139Z"
    }
   },
   "id": "d5e3c37316ce5045",
   "execution_count": 95
  },
  {
   "cell_type": "code",
   "outputs": [],
   "source": [
    "predictions_subset2 = []\n",
    "for classifier in fitted_classifiers:\n",
    "    predictions = classifier.predict(X_holdout)\n",
    "    predictions_subset2.append(predictions)"
   ],
   "metadata": {
    "collapsed": false,
    "ExecuteTime": {
     "end_time": "2024-04-04T10:43:20.842439Z",
     "start_time": "2024-04-04T10:43:15.605949Z"
    }
   },
   "id": "607be489d694986f",
   "execution_count": 96
  },
  {
   "cell_type": "code",
   "outputs": [],
   "source": [
    "#Create a feature matrix of all the predictions by the models\n",
    "blending_feature_matrix = np.column_stack(predictions_subset2)"
   ],
   "metadata": {
    "collapsed": false,
    "ExecuteTime": {
     "end_time": "2024-04-04T10:43:20.853709Z",
     "start_time": "2024-04-04T10:43:20.844447Z"
    }
   },
   "id": "ac3a52e0a86dd6dd",
   "execution_count": 97
  },
  {
   "cell_type": "code",
   "outputs": [],
   "source": [
    "# Train a blending model (meta-model) on the blending feature matrix and true labels of subset2\n",
    "blending_model = ExtraTreesClassifier(n_estimators = 100, max_depth = None, random_state = 42)\n",
    "blending_model.fit(blending_feature_matrix, y_holdout)\n",
    "blending_predictions = blending_model.predict(blending_feature_matrix)"
   ],
   "metadata": {
    "collapsed": false,
    "ExecuteTime": {
     "end_time": "2024-04-04T10:43:21.585532Z",
     "start_time": "2024-04-04T10:43:20.856717Z"
    }
   },
   "id": "9adf5ffeeaa0d576",
   "execution_count": 98
  },
  {
   "cell_type": "code",
   "outputs": [
    {
     "name": "stdout",
     "output_type": "stream",
     "text": [
      "ROC AUC Score for Blending Model: 0.906778797186111\n",
      "Precision for Blending Model: 0.8865253402415442\n"
     ]
    }
   ],
   "source": [
    "blending_roc_auc = roc_auc_score(y_holdout, blending_predictions)\n",
    "blending_precision = precision_score(y_holdout, blending_predictions)\n",
    "print(\"ROC AUC Score for Blending Model:\", blending_roc_auc)\n",
    "print(\"Precision for Blending Model:\", blending_precision)"
   ],
   "metadata": {
    "collapsed": false,
    "ExecuteTime": {
     "end_time": "2024-04-04T10:43:21.637067Z",
     "start_time": "2024-04-04T10:43:21.587546Z"
    }
   },
   "id": "dd61301383908e6c",
   "execution_count": 99
  },
  {
   "cell_type": "markdown",
   "source": [
    "Model Interpretability using Feature Importance, Partial Dependence Plot, SHAP (Shapely Additive Explanations) and LIME (Local Interpretable Model-agnostic Explanations)"
   ],
   "metadata": {
    "collapsed": false
   },
   "id": "2c6c697149de952d"
  },
  {
   "cell_type": "code",
   "outputs": [
    {
     "data": {
      "text/plain": "                    0         1\n0         CreditScore  0.111163\n1                 Age  0.219945\n2              Tenure  0.103845\n3             Balance  0.075197\n4       NumOfProducts  0.183059\n5           HasCrCard  0.007633\n6      IsActiveMember  0.055630\n7     EstimatedSalary  0.108232\n8              France  0.055496\n9             Germany  0.012405\n10              Spain  0.030850\n11             Female  0.007438\n12               Male  0.015995\n13  Balance_to_Salary  0.013112",
      "text/html": "<div>\n<style scoped>\n    .dataframe tbody tr th:only-of-type {\n        vertical-align: middle;\n    }\n\n    .dataframe tbody tr th {\n        vertical-align: top;\n    }\n\n    .dataframe thead th {\n        text-align: right;\n    }\n</style>\n<table border=\"1\" class=\"dataframe\">\n  <thead>\n    <tr style=\"text-align: right;\">\n      <th></th>\n      <th>0</th>\n      <th>1</th>\n    </tr>\n  </thead>\n  <tbody>\n    <tr>\n      <th>0</th>\n      <td>CreditScore</td>\n      <td>0.111163</td>\n    </tr>\n    <tr>\n      <th>1</th>\n      <td>Age</td>\n      <td>0.219945</td>\n    </tr>\n    <tr>\n      <th>2</th>\n      <td>Tenure</td>\n      <td>0.103845</td>\n    </tr>\n    <tr>\n      <th>3</th>\n      <td>Balance</td>\n      <td>0.075197</td>\n    </tr>\n    <tr>\n      <th>4</th>\n      <td>NumOfProducts</td>\n      <td>0.183059</td>\n    </tr>\n    <tr>\n      <th>5</th>\n      <td>HasCrCard</td>\n      <td>0.007633</td>\n    </tr>\n    <tr>\n      <th>6</th>\n      <td>IsActiveMember</td>\n      <td>0.055630</td>\n    </tr>\n    <tr>\n      <th>7</th>\n      <td>EstimatedSalary</td>\n      <td>0.108232</td>\n    </tr>\n    <tr>\n      <th>8</th>\n      <td>France</td>\n      <td>0.055496</td>\n    </tr>\n    <tr>\n      <th>9</th>\n      <td>Germany</td>\n      <td>0.012405</td>\n    </tr>\n    <tr>\n      <th>10</th>\n      <td>Spain</td>\n      <td>0.030850</td>\n    </tr>\n    <tr>\n      <th>11</th>\n      <td>Female</td>\n      <td>0.007438</td>\n    </tr>\n    <tr>\n      <th>12</th>\n      <td>Male</td>\n      <td>0.015995</td>\n    </tr>\n    <tr>\n      <th>13</th>\n      <td>Balance_to_Salary</td>\n      <td>0.013112</td>\n    </tr>\n  </tbody>\n</table>\n</div>"
     },
     "execution_count": 45,
     "metadata": {},
     "output_type": "execute_result"
    }
   ],
   "source": [
    "features_importance = et.feature_importances_\n",
    "feature_names = pd.Series(['CreditScore', 'Age', 'Tenure', 'Balance', 'NumOfProducts', 'HasCrCard', 'IsActiveMember', 'EstimatedSalary', 'France', 'Germany', 'Spain', 'Female', 'Male', 'Balance_to_Salary'])\n",
    "\n",
    "features_importance = pd.Series(features_importance)\n",
    "df = pd.concat([feature_names, features_importance], axis=1)\n",
    "df"
   ],
   "metadata": {
    "collapsed": false,
    "ExecuteTime": {
     "end_time": "2024-04-20T07:12:57.371308Z",
     "start_time": "2024-04-20T07:12:57.098550Z"
    }
   },
   "id": "9f1d224ca293fc24",
   "execution_count": 45
  },
  {
   "cell_type": "code",
   "outputs": [
    {
     "data": {
      "text/plain": "([0, 1, 2, 3, 4, 5, 6, 7, 8, 9, 10, 11, 12, 13],\n [Text(0, 0, 'CreditScore'),\n  Text(1, 0, 'Age'),\n  Text(2, 0, 'Tenure'),\n  Text(3, 0, 'Balance'),\n  Text(4, 0, 'NumOfProducts'),\n  Text(5, 0, 'HasCrCard'),\n  Text(6, 0, 'IsActiveMember'),\n  Text(7, 0, 'EstimatedSalary'),\n  Text(8, 0, 'France'),\n  Text(9, 0, 'Germany'),\n  Text(10, 0, 'Spain'),\n  Text(11, 0, 'Female'),\n  Text(12, 0, 'Male'),\n  Text(13, 0, 'Balance_to_Salary')])"
     },
     "execution_count": 46,
     "metadata": {},
     "output_type": "execute_result"
    },
    {
     "data": {
      "text/plain": "<Figure size 640x480 with 1 Axes>",
      "image/png": "[encoded data removed]"
     },
     "metadata": {},
     "output_type": "display_data"
    }
   ],
   "source": [
    "plt.bar(feature_names, features_importance*1)\n",
    "plt.xticks(rotation=90)"
   ],
   "metadata": {
    "collapsed": false,
    "ExecuteTime": {
     "end_time": "2024-04-20T07:13:02.593203Z",
     "start_time": "2024-04-20T07:13:02.155522Z"
    }
   },
   "id": "3b96d5558d78b6aa",
   "execution_count": 46
  },
  {
   "cell_type": "markdown",
   "source": [
    "It's clear that Age and NumOfProducts are the most important features. We'll plot a partial dependence graph to examine how their combined interaction affects the target variable."
   ],
   "metadata": {
    "collapsed": false
   },
   "id": "cf54aa892bef9937"
  },
  {
   "cell_type": "code",
   "outputs": [
    {
     "data": {
      "text/plain": "<sklearn.inspection._plot.partial_dependence.PartialDependenceDisplay at 0x1e064dc7650>"
     },
     "execution_count": 92,
     "metadata": {},
     "output_type": "execute_result"
    },
    {
     "data": {
      "text/plain": "<Figure size 640x480 with 3 Axes>",
      "image/png": "[encoded data removed]"
     },
     "metadata": {},
     "output_type": "display_data"
    }
   ],
   "source": [
    "PartialDependenceDisplay.from_estimator(et, X_test, [1, 4, (1, 4)])"
   ],
   "metadata": {
    "collapsed": false,
    "ExecuteTime": {
     "end_time": "2024-04-08T03:34:11.665267Z",
     "start_time": "2024-04-08T03:29:41.502998Z"
    }
   },
   "id": "66cf002ec8a41284",
   "execution_count": 92
  },
  {
   "cell_type": "code",
   "outputs": [
    {
     "name": "stderr",
     "output_type": "stream",
     "text": [
      "Using 247214 background data samples could cause slower run times. Consider using shap.sample(data, K) or shap.kmeans(data, K) to summarize the background as K samples.\n"
     ]
    }
   ],
   "source": [
    "k_explainer = shap.KernelExplainer(et.predict_proba, X_t)"
   ],
   "metadata": {
    "collapsed": false,
    "ExecuteTime": {
     "end_time": "2024-04-09T04:13:55.686315Z",
     "start_time": "2024-04-09T04:13:44.334182Z"
    }
   },
   "id": "663259cb34c2746f",
   "execution_count": 36
  },
  {
   "cell_type": "code",
   "outputs": [
    {
     "name": "stderr",
     "output_type": "stream",
     "text": [
      "  0%|          | 0/247214 [01:43<?, ?it/s]\n"
     ]
    },
    {
     "ename": "MemoryError",
     "evalue": "Unable to allocate 53.5 GiB for an array with shape (2076, 3460996) and data type float64",
     "output_type": "error",
     "traceback": [
      "\u001B[1;31m---------------------------------------------------------------------------\u001B[0m",
      "\u001B[1;31mMemoryError\u001B[0m                               Traceback (most recent call last)",
      "Cell \u001B[1;32mIn[43], line 1\u001B[0m\n\u001B[1;32m----> 1\u001B[0m shap_values \u001B[38;5;241m=\u001B[39m \u001B[43mk_explainer\u001B[49m\u001B[38;5;241;43m.\u001B[39;49m\u001B[43mshap_values\u001B[49m\u001B[43m(\u001B[49m\u001B[43mX_t\u001B[49m\u001B[43m)\u001B[49m\n",
      "File \u001B[1;32m~\\anaconda3\\Lib\\site-packages\\shap\\explainers\\_kernel.py:271\u001B[0m, in \u001B[0;36mKernelExplainer.shap_values\u001B[1;34m(self, X, **kwargs)\u001B[0m\n\u001B[0;32m    269\u001B[0m \u001B[38;5;28;01mif\u001B[39;00m \u001B[38;5;28mself\u001B[39m\u001B[38;5;241m.\u001B[39mkeep_index:\n\u001B[0;32m    270\u001B[0m     data \u001B[38;5;241m=\u001B[39m convert_to_instance_with_index(data, column_name, index_value[i:i \u001B[38;5;241m+\u001B[39m \u001B[38;5;241m1\u001B[39m], index_name)\n\u001B[1;32m--> 271\u001B[0m explanations\u001B[38;5;241m.\u001B[39mappend(\u001B[38;5;28;43mself\u001B[39;49m\u001B[38;5;241;43m.\u001B[39;49m\u001B[43mexplain\u001B[49m\u001B[43m(\u001B[49m\u001B[43mdata\u001B[49m\u001B[43m,\u001B[49m\u001B[43m \u001B[49m\u001B[38;5;241;43m*\u001B[39;49m\u001B[38;5;241;43m*\u001B[39;49m\u001B[43mkwargs\u001B[49m\u001B[43m)\u001B[49m)\n\u001B[0;32m    272\u001B[0m \u001B[38;5;28;01mif\u001B[39;00m kwargs\u001B[38;5;241m.\u001B[39mget(\u001B[38;5;124m\"\u001B[39m\u001B[38;5;124mgc_collect\u001B[39m\u001B[38;5;124m\"\u001B[39m, \u001B[38;5;28;01mFalse\u001B[39;00m):\n\u001B[0;32m    273\u001B[0m     gc\u001B[38;5;241m.\u001B[39mcollect()\n",
      "File \u001B[1;32m~\\anaconda3\\Lib\\site-packages\\shap\\explainers\\_kernel.py:362\u001B[0m, in \u001B[0;36mKernelExplainer.explain\u001B[1;34m(self, incoming_instance, **kwargs)\u001B[0m\n\u001B[0;32m    359\u001B[0m         \u001B[38;5;28mself\u001B[39m\u001B[38;5;241m.\u001B[39mnsamples \u001B[38;5;241m=\u001B[39m \u001B[38;5;28mself\u001B[39m\u001B[38;5;241m.\u001B[39mmax_samples\n\u001B[0;32m    361\u001B[0m \u001B[38;5;66;03m# reserve space for some of our computations\u001B[39;00m\n\u001B[1;32m--> 362\u001B[0m \u001B[38;5;28;43mself\u001B[39;49m\u001B[38;5;241;43m.\u001B[39;49m\u001B[43mallocate\u001B[49m\u001B[43m(\u001B[49m\u001B[43m)\u001B[49m\n\u001B[0;32m    364\u001B[0m \u001B[38;5;66;03m# weight the different subset sizes\u001B[39;00m\n\u001B[0;32m    365\u001B[0m num_subset_sizes \u001B[38;5;241m=\u001B[39m \u001B[38;5;28mint\u001B[39m(np\u001B[38;5;241m.\u001B[39mceil((\u001B[38;5;28mself\u001B[39m\u001B[38;5;241m.\u001B[39mM \u001B[38;5;241m-\u001B[39m \u001B[38;5;241m1\u001B[39m) \u001B[38;5;241m/\u001B[39m \u001B[38;5;241m2.0\u001B[39m))\n",
      "File \u001B[1;32m~\\anaconda3\\Lib\\site-packages\\shap\\explainers\\_kernel.py:567\u001B[0m, in \u001B[0;36mKernelExplainer.allocate\u001B[1;34m(self)\u001B[0m\n\u001B[0;32m    565\u001B[0m         \u001B[38;5;28mself\u001B[39m\u001B[38;5;241m.\u001B[39msynth_data \u001B[38;5;241m=\u001B[39m scipy\u001B[38;5;241m.\u001B[39msparse\u001B[38;5;241m.\u001B[39mcsr_matrix((new_data, new_indices, new_indptr), shape\u001B[38;5;241m=\u001B[39mshape)\u001B[38;5;241m.\u001B[39mtolil()\n\u001B[0;32m    566\u001B[0m \u001B[38;5;28;01melse\u001B[39;00m:\n\u001B[1;32m--> 567\u001B[0m     \u001B[38;5;28mself\u001B[39m\u001B[38;5;241m.\u001B[39msynth_data \u001B[38;5;241m=\u001B[39m \u001B[43mnp\u001B[49m\u001B[38;5;241;43m.\u001B[39;49m\u001B[43mtile\u001B[49m\u001B[43m(\u001B[49m\u001B[38;5;28;43mself\u001B[39;49m\u001B[38;5;241;43m.\u001B[39;49m\u001B[43mdata\u001B[49m\u001B[38;5;241;43m.\u001B[39;49m\u001B[43mdata\u001B[49m\u001B[43m,\u001B[49m\u001B[43m \u001B[49m\u001B[43m(\u001B[49m\u001B[38;5;28;43mself\u001B[39;49m\u001B[38;5;241;43m.\u001B[39;49m\u001B[43mnsamples\u001B[49m\u001B[43m,\u001B[49m\u001B[43m \u001B[49m\u001B[38;5;241;43m1\u001B[39;49m\u001B[43m)\u001B[49m\u001B[43m)\u001B[49m\n\u001B[0;32m    569\u001B[0m \u001B[38;5;28mself\u001B[39m\u001B[38;5;241m.\u001B[39mmaskMatrix \u001B[38;5;241m=\u001B[39m np\u001B[38;5;241m.\u001B[39mzeros((\u001B[38;5;28mself\u001B[39m\u001B[38;5;241m.\u001B[39mnsamples, \u001B[38;5;28mself\u001B[39m\u001B[38;5;241m.\u001B[39mM))\n\u001B[0;32m    570\u001B[0m \u001B[38;5;28mself\u001B[39m\u001B[38;5;241m.\u001B[39mkernelWeights \u001B[38;5;241m=\u001B[39m np\u001B[38;5;241m.\u001B[39mzeros(\u001B[38;5;28mself\u001B[39m\u001B[38;5;241m.\u001B[39mnsamples)\n",
      "File \u001B[1;32m~\\anaconda3\\Lib\\site-packages\\numpy\\lib\\shape_base.py:1272\u001B[0m, in \u001B[0;36mtile\u001B[1;34m(A, reps)\u001B[0m\n\u001B[0;32m   1270\u001B[0m     \u001B[38;5;28;01mfor\u001B[39;00m dim_in, nrep \u001B[38;5;129;01min\u001B[39;00m \u001B[38;5;28mzip\u001B[39m(c\u001B[38;5;241m.\u001B[39mshape, tup):\n\u001B[0;32m   1271\u001B[0m         \u001B[38;5;28;01mif\u001B[39;00m nrep \u001B[38;5;241m!=\u001B[39m \u001B[38;5;241m1\u001B[39m:\n\u001B[1;32m-> 1272\u001B[0m             c \u001B[38;5;241m=\u001B[39m \u001B[43mc\u001B[49m\u001B[38;5;241;43m.\u001B[39;49m\u001B[43mreshape\u001B[49m\u001B[43m(\u001B[49m\u001B[38;5;241;43m-\u001B[39;49m\u001B[38;5;241;43m1\u001B[39;49m\u001B[43m,\u001B[49m\u001B[43m \u001B[49m\u001B[43mn\u001B[49m\u001B[43m)\u001B[49m\u001B[38;5;241;43m.\u001B[39;49m\u001B[43mrepeat\u001B[49m\u001B[43m(\u001B[49m\u001B[43mnrep\u001B[49m\u001B[43m,\u001B[49m\u001B[43m \u001B[49m\u001B[38;5;241;43m0\u001B[39;49m\u001B[43m)\u001B[49m\n\u001B[0;32m   1273\u001B[0m         n \u001B[38;5;241m/\u001B[39m\u001B[38;5;241m/\u001B[39m\u001B[38;5;241m=\u001B[39m dim_in\n\u001B[0;32m   1274\u001B[0m \u001B[38;5;28;01mreturn\u001B[39;00m c\u001B[38;5;241m.\u001B[39mreshape(shape_out)\n",
      "\u001B[1;31mMemoryError\u001B[0m: Unable to allocate 53.5 GiB for an array with shape (2076, 3460996) and data type float64"
     ]
    }
   ],
   "source": [
    "shap_values = k_explainer.shap_values(X_t)"
   ],
   "metadata": {
    "collapsed": false,
    "ExecuteTime": {
     "end_time": "2024-04-09T05:10:02.371906Z",
     "start_time": "2024-04-09T05:08:18.982913Z"
    }
   },
   "id": "bb43391b34b4b7cf",
   "execution_count": 43
  },
  {
   "cell_type": "code",
   "outputs": [],
   "source": [
    "shap.summary_plot(shap_values[1], X_holdout)"
   ],
   "metadata": {
    "collapsed": false
   },
   "id": "e2f4ea134157f9a2"
  },
  {
   "cell_type": "code",
   "outputs": [],
   "source": [
    "shap.summary_plot(shap_values, X_holdout)"
   ],
   "metadata": {
    "collapsed": false
   },
   "id": "1334b93650207dab"
  },
  {
   "cell_type": "markdown",
   "source": [
    "In case we want to explain a particular instance (row), we can use LIME"
   ],
   "metadata": {
    "collapsed": false
   },
   "id": "bc14e9c34695eb7a"
  },
  {
   "cell_type": "code",
   "outputs": [
    {
     "name": "stdout",
     "output_type": "stream",
     "text": [
      "[('Female > 0.00', 0.056467018985272094), ('Spain <= 0.00', -0.03346393955740987), ('0.00 < Male <= 1.00', 0.029335445018389344)]\n"
     ]
    }
   ],
   "source": [
    "from lime import lime_tabular, lime_text\n",
    "from lime.lime_tabular import LimeTabularExplainer\n",
    "explainer = LimeTabularExplainer(X_t, mode='classification', feature_names=feature_names)\n",
    "instance_idx = 1\n",
    "instance = X_t[instance_idx]\n",
    "explanation = explainer.explain_instance(instance, et.predict_proba, num_features=3)\n",
    "print(explanation.as_list())"
   ],
   "metadata": {
    "collapsed": false,
    "ExecuteTime": {
     "end_time": "2024-04-20T07:32:54.853953Z",
     "start_time": "2024-04-20T07:32:52.877225Z"
    }
   },
   "id": "3a948fe227e38887",
   "execution_count": 56
  },
  {
   "cell_type": "markdown",
   "source": [
    "Interpretation of instance 1\n",
    "Being female increases the likelihood of churn, as indicated by the positive weight.\n",
    "Not being from Spain decreases the likelihood of churn, as indicated by the negative weight.\n",
    "Being male also slightly increases the likelihood of churn, although to a lesser extent compared to being female, as indicated by the positive weight."
   ],
   "metadata": {
    "collapsed": false
   },
   "id": "188852153756866c"
  }
 ],
 "metadata": {
  "kernelspec": {
   "display_name": "Python 3",
   "language": "python",
   "name": "python3"
  },
  "language_info": {
   "codemirror_mode": {
    "name": "ipython",
    "version": 2
   },
   "file_extension": ".py",
   "mimetype": "text/x-python",
   "name": "python",
   "nbconvert_exporter": "python",
   "pygments_lexer": "ipython2",
   "version": "2.7.6"
  }
 },
 "nbformat": 4,
 "nbformat_minor": 5
}
