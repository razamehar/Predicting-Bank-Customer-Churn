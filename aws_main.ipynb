{
 "cells": [
  {
   "cell_type": "code",
   "execution_count": 83,
   "id": "9a5325e6-4c3a-46c6-9591-849251031925",
   "metadata": {},
   "outputs": [],
   "source": [
    "import sagemaker\n",
    "import boto3\n",
    "from sagemaker import image_uris\n",
    "from sagemaker.session import s3_input, Session\n",
    "from sagemaker.serializers import CSVSerializer\n",
    "import pandas as pd\n",
    "import numpy as np\n",
    "import os"
   ]
  },
  {
   "cell_type": "code",
   "execution_count": 2,
   "id": "6f47cb9f-e17c-4b79-8283-c555dad1c847",
   "metadata": {},
   "outputs": [
    {
     "name": "stdout",
     "output_type": "stream",
     "text": [
      "us-east-1\n"
     ]
    }
   ],
   "source": [
    "my_region = boto3.session.Session().region_name\n",
    "print(my_region)"
   ]
  },
  {
   "cell_type": "code",
   "execution_count": 3,
   "id": "8bc1e946-8c86-4432-9f48-36a2e98b1467",
   "metadata": {},
   "outputs": [
    {
     "name": "stdout",
     "output_type": "stream",
     "text": [
      "Bucket exists!\n"
     ]
    }
   ],
   "source": [
    "s3 = boto3.resource('s3')\n",
    "bucket_name = 'bank-churn-bucket'\n",
    "\n",
    "buckets = [bucket.name for bucket in s3.buckets.all()]\n",
    "\n",
    "if bucket_name in buckets:\n",
    "    print(\"Bucket exists!\")\n",
    "else:\n",
    "    print(\"Bucket does not exist.\")"
   ]
  },
  {
   "cell_type": "code",
   "execution_count": 7,
   "id": "10758797-e8af-4c21-b1b4-9975dd6384b8",
   "metadata": {},
   "outputs": [
    {
     "name": "stdout",
     "output_type": "stream",
     "text": [
      "s3://bank-churn-bucket/decision-tree-as-a-built-in-algo/output\n"
     ]
    }
   ],
   "source": [
    "prefix = 'decision-tree-as-a-built-in-algo'\n",
    "output_path = f's3://{bucket_name}/{prefix}/output'\n",
    "print(output_path)"
   ]
  },
  {
   "cell_type": "markdown",
   "id": "a5e0de36-466c-49a3-9130-1242c52d1d39",
   "metadata": {},
   "source": [
    "##### Upload the data files from the local machine"
   ]
  },
  {
   "cell_type": "code",
   "execution_count": 48,
   "id": "63dc0b39-d2fe-4c57-9048-cde2a4e06092",
   "metadata": {},
   "outputs": [],
   "source": [
    "train_df = pd.read_csv('train.csv')\n",
    "test_df = pd.read_csv('test.csv')"
   ]
  },
  {
   "cell_type": "code",
   "execution_count": 49,
   "id": "33c4a69f-9806-4388-8f01-7332ab078801",
   "metadata": {},
   "outputs": [],
   "source": [
    "train_df.drop(columns=['id', 'CustomerId', 'Surname', 'Geography', 'Gender'], inplace=True)\n",
    "test_df.drop(columns=['id', 'CustomerId', 'Surname', 'Geography', 'Gender'], inplace=True)"
   ]
  },
  {
   "cell_type": "code",
   "execution_count": 54,
   "id": "263a8046-2fa8-443c-a02a-d2eca376da1d",
   "metadata": {},
   "outputs": [],
   "source": [
    "train_df = train_df[:25000]\n",
    "test_df = test_df[:10000]"
   ]
  },
  {
   "cell_type": "code",
   "execution_count": 55,
   "id": "02dc68b4-1aa6-4020-a462-7c0dd826a1a9",
   "metadata": {},
   "outputs": [],
   "source": [
    "# In AWS, the target variable must be the first feature.\n",
    "train_df = train_df[['Exited', 'CreditScore', 'Age', 'Tenure', 'Balance', \n",
    "                     'NumOfProducts', 'HasCrCard', 'IsActiveMember', 'EstimatedSalary']]\n",
    "train_df.to_csv('train.csv', index=False, header=False)\n",
    "\n",
    "test_df = test_df[['Exited', 'CreditScore', 'Age', 'Tenure', 'Balance', \n",
    "                    'NumOfProducts', 'HasCrCard', 'IsActiveMember', 'EstimatedSalary']]\n",
    "test_df.to_csv('test.csv', index=False, header=False)"
   ]
  },
  {
   "cell_type": "markdown",
   "id": "13b6b08f-e0bd-4949-9f95-19c0596e8552",
   "metadata": {},
   "source": [
    "##### Saving data files in the 3 bucket\n",
    "- Go to the AWS Console → IAM → Roles\n",
    "- Search for: AmazonSageMaker-ExecutionRole-20250411T191722\n",
    "- Click on the role, then click Attach policies\n",
    "- Attach the managed policy: AmazonS3FullAccess"
   ]
  },
  {
   "cell_type": "code",
   "execution_count": 72,
   "id": "d90833d0-c8f4-4da8-a21e-6f00fe4ff3ff",
   "metadata": {},
   "outputs": [
    {
     "name": "stdout",
     "output_type": "stream",
     "text": [
      "Train file saved in the S3 bucket.\n",
      "Test file saved in the S3 bucket.\n"
     ]
    }
   ],
   "source": [
    "boto3.Session().resource('s3').Bucket(bucket_name).Object(os.path.join(prefix, 'data/train.csv')).upload_file('train.csv')\n",
    "s3_input_train = sagemaker.TrainingInput(s3_data=f's3://{bucket_name}/{prefix}', content_type='csv')\n",
    "print('Train file saved in the S3 bucket.')\n",
    "\n",
    "boto3.Session().resource('s3').Bucket(bucket_name).Object(os.path.join(prefix, 'data/test.csv')).upload_file('test.csv')\n",
    "s3_input_test = sagemaker.TrainingInput(s3_data=f's3://{bucket_name}/{prefix}', content_type='csv')\n",
    "print('Test file saved in the S3 bucket.')"
   ]
  },
  {
   "cell_type": "code",
   "execution_count": 65,
   "id": "e245294c-0efd-44d1-9af9-c5f555748073",
   "metadata": {},
   "outputs": [
    {
     "data": {
      "text/html": [
       "<pre style=\"white-space:pre;overflow-x:auto;line-height:normal;font-family:Menlo,'DejaVu Sans Mono',consolas,'Courier New',monospace\"><span style=\"color: #7fbfbf; text-decoration-color: #7fbfbf\">[04/12/25 14:14:24] </span><span style=\"color: #0069ff; text-decoration-color: #0069ff; font-weight: bold\">INFO    </span> Ignoring unnecessary instance type: <span style=\"color: #e100e1; text-decoration-color: #e100e1; font-style: italic\">None</span>.                            <a href=\"file:///opt/conda/lib/python3.11/site-packages/sagemaker/image_uris.py\" target=\"_blank\"><span style=\"color: #7f7f7f; text-decoration-color: #7f7f7f\">image_uris.py</span></a><span style=\"color: #7f7f7f; text-decoration-color: #7f7f7f\">:</span><a href=\"file:///opt/conda/lib/python3.11/site-packages/sagemaker/image_uris.py#530\" target=\"_blank\"><span style=\"color: #7f7f7f; text-decoration-color: #7f7f7f\">530</span></a>\n",
       "</pre>\n"
      ],
      "text/plain": [
       "\u001b[2;36m[04/12/25 14:14:24]\u001b[0m\u001b[2;36m \u001b[0m\u001b[1;38;2;0;105;255mINFO    \u001b[0m Ignoring unnecessary instance type: \u001b[3;38;2;225;0;225mNone\u001b[0m.                            \u001b]8;id=49410;file:///opt/conda/lib/python3.11/site-packages/sagemaker/image_uris.py\u001b\\\u001b[2mimage_uris.py\u001b[0m\u001b]8;;\u001b\\\u001b[2m:\u001b[0m\u001b]8;id=751727;file:///opt/conda/lib/python3.11/site-packages/sagemaker/image_uris.py#530\u001b\\\u001b[2m530\u001b[0m\u001b]8;;\u001b\\\n"
      ]
     },
     "metadata": {},
     "output_type": "display_data"
    }
   ],
   "source": [
    "xgboost_container = sagemaker.image_uris.retrieve(\"xgboost\", boto3.Session().region_name, \"1.7-1\")"
   ]
  },
  {
   "cell_type": "code",
   "execution_count": 63,
   "id": "1be698b6-c4a5-4605-885a-d8f1c749b346",
   "metadata": {},
   "outputs": [],
   "source": [
    "hyperparameters = {\n",
    "        \"max_depth\":\"5\",\n",
    "        \"eta\":\"0.2\",\n",
    "        \"gamma\":\"4\",\n",
    "        \"min_child_weight\":\"6\",\n",
    "        \"subsample\":\"0.7\",\n",
    "        \"objective\":\"binary:logistic\", # We have a classification problem\n",
    "        \"num_round\":50\n",
    "        }"
   ]
  },
  {
   "cell_type": "code",
   "execution_count": 69,
   "id": "1de26a9b-6446-437f-aaec-cd0381540c46",
   "metadata": {},
   "outputs": [],
   "source": [
    "estimator = sagemaker.estimator.Estimator(image_uri=xgboost_container, \n",
    "                                          hyperparameters=hyperparameters,\n",
    "                                          role=sagemaker.get_execution_role(),\n",
    "                                          instance_count=1, \n",
    "                                          instance_type='ml.m5.2xlarge', \n",
    "                                          volume_size=5, # 5 GB \n",
    "                                          output_path=output_path,\n",
    "                                          use_spot_instances=True,\n",
    "                                          max_run=300,\n",
    "                                          max_wait=600)     "
   ]
  },
  {
   "cell_type": "code",
   "execution_count": 73,
   "id": "e99718fe-1b5f-45b9-9422-da71c477674b",
   "metadata": {},
   "outputs": [
    {
     "data": {
      "text/html": [
       "<pre style=\"white-space:pre;overflow-x:auto;line-height:normal;font-family:Menlo,'DejaVu Sans Mono',consolas,'Courier New',monospace\"><span style=\"color: #7fbfbf; text-decoration-color: #7fbfbf\">[04/12/25 14:20:44] </span><span style=\"color: #0069ff; text-decoration-color: #0069ff; font-weight: bold\">INFO    </span> SageMaker Python SDK will collect telemetry to help us better  <a href=\"file:///opt/conda/lib/python3.11/site-packages/sagemaker/telemetry/telemetry_logging.py\" target=\"_blank\"><span style=\"color: #7f7f7f; text-decoration-color: #7f7f7f\">telemetry_logging.py</span></a><span style=\"color: #7f7f7f; text-decoration-color: #7f7f7f\">:</span><a href=\"file:///opt/conda/lib/python3.11/site-packages/sagemaker/telemetry/telemetry_logging.py#91\" target=\"_blank\"><span style=\"color: #7f7f7f; text-decoration-color: #7f7f7f\">91</span></a>\n",
       "<span style=\"color: #7fbfbf; text-decoration-color: #7fbfbf\">                    </span>         understand our user's needs, diagnose issues, and deliver      <span style=\"color: #7f7f7f; text-decoration-color: #7f7f7f\">                       </span>\n",
       "<span style=\"color: #7fbfbf; text-decoration-color: #7fbfbf\">                    </span>         additional features.                                           <span style=\"color: #7f7f7f; text-decoration-color: #7f7f7f\">                       </span>\n",
       "<span style=\"color: #7fbfbf; text-decoration-color: #7fbfbf\">                    </span>         To opt out of telemetry, please disable via TelemetryOptOut    <span style=\"color: #7f7f7f; text-decoration-color: #7f7f7f\">                       </span>\n",
       "<span style=\"color: #7fbfbf; text-decoration-color: #7fbfbf\">                    </span>         parameter in SDK defaults config. For more information, refer  <span style=\"color: #7f7f7f; text-decoration-color: #7f7f7f\">                       </span>\n",
       "<span style=\"color: #7fbfbf; text-decoration-color: #7fbfbf\">                    </span>         to                                                             <span style=\"color: #7f7f7f; text-decoration-color: #7f7f7f\">                       </span>\n",
       "<span style=\"color: #7fbfbf; text-decoration-color: #7fbfbf\">                    </span>         <span style=\"color: #0069ff; text-decoration-color: #0069ff; text-decoration: underline\">https://sagemaker.readthedocs.io/en/stable/overview.html#confi</span> <span style=\"color: #7f7f7f; text-decoration-color: #7f7f7f\">                       </span>\n",
       "<span style=\"color: #7fbfbf; text-decoration-color: #7fbfbf\">                    </span>         <span style=\"color: #0069ff; text-decoration-color: #0069ff; text-decoration: underline\">guring-and-using-defaults-with-the-sagemaker-python-sdk.</span>       <span style=\"color: #7f7f7f; text-decoration-color: #7f7f7f\">                       </span>\n",
       "</pre>\n"
      ],
      "text/plain": [
       "\u001b[2;36m[04/12/25 14:20:44]\u001b[0m\u001b[2;36m \u001b[0m\u001b[1;38;2;0;105;255mINFO    \u001b[0m SageMaker Python SDK will collect telemetry to help us better  \u001b]8;id=591160;file:///opt/conda/lib/python3.11/site-packages/sagemaker/telemetry/telemetry_logging.py\u001b\\\u001b[2mtelemetry_logging.py\u001b[0m\u001b]8;;\u001b\\\u001b[2m:\u001b[0m\u001b]8;id=650349;file:///opt/conda/lib/python3.11/site-packages/sagemaker/telemetry/telemetry_logging.py#91\u001b\\\u001b[2m91\u001b[0m\u001b]8;;\u001b\\\n",
       "\u001b[2;36m                    \u001b[0m         understand our user's needs, diagnose issues, and deliver      \u001b[2m                       \u001b[0m\n",
       "\u001b[2;36m                    \u001b[0m         additional features.                                           \u001b[2m                       \u001b[0m\n",
       "\u001b[2;36m                    \u001b[0m         To opt out of telemetry, please disable via TelemetryOptOut    \u001b[2m                       \u001b[0m\n",
       "\u001b[2;36m                    \u001b[0m         parameter in SDK defaults config. For more information, refer  \u001b[2m                       \u001b[0m\n",
       "\u001b[2;36m                    \u001b[0m         to                                                             \u001b[2m                       \u001b[0m\n",
       "\u001b[2;36m                    \u001b[0m         \u001b[4;38;2;0;105;255mhttps://sagemaker.readthedocs.io/en/stable/overview.html#confi\u001b[0m \u001b[2m                       \u001b[0m\n",
       "\u001b[2;36m                    \u001b[0m         \u001b[4;38;2;0;105;255mguring-and-using-defaults-with-the-sagemaker-python-sdk.\u001b[0m       \u001b[2m                       \u001b[0m\n"
      ]
     },
     "metadata": {},
     "output_type": "display_data"
    },
    {
     "data": {
      "text/html": [
       "<pre style=\"white-space:pre;overflow-x:auto;line-height:normal;font-family:Menlo,'DejaVu Sans Mono',consolas,'Courier New',monospace\"><span style=\"color: #7fbfbf; text-decoration-color: #7fbfbf\">                    </span><span style=\"color: #0069ff; text-decoration-color: #0069ff; font-weight: bold\">INFO    </span> Creating training-job with name:                                       <a href=\"file:///opt/conda/lib/python3.11/site-packages/sagemaker/session.py\" target=\"_blank\"><span style=\"color: #7f7f7f; text-decoration-color: #7f7f7f\">session.py</span></a><span style=\"color: #7f7f7f; text-decoration-color: #7f7f7f\">:</span><a href=\"file:///opt/conda/lib/python3.11/site-packages/sagemaker/session.py#1042\" target=\"_blank\"><span style=\"color: #7f7f7f; text-decoration-color: #7f7f7f\">1042</span></a>\n",
       "<span style=\"color: #7fbfbf; text-decoration-color: #7fbfbf\">                    </span>         sagemaker-xgboost-<span style=\"color: #008080; text-decoration-color: #008080; font-weight: bold\">2025</span>-04-12-14-20-44-997                              <span style=\"color: #7f7f7f; text-decoration-color: #7f7f7f\">               </span>\n",
       "</pre>\n"
      ],
      "text/plain": [
       "\u001b[2;36m                   \u001b[0m\u001b[2;36m \u001b[0m\u001b[1;38;2;0;105;255mINFO    \u001b[0m Creating training-job with name:                                       \u001b]8;id=319627;file:///opt/conda/lib/python3.11/site-packages/sagemaker/session.py\u001b\\\u001b[2msession.py\u001b[0m\u001b]8;;\u001b\\\u001b[2m:\u001b[0m\u001b]8;id=631343;file:///opt/conda/lib/python3.11/site-packages/sagemaker/session.py#1042\u001b\\\u001b[2m1042\u001b[0m\u001b]8;;\u001b\\\n",
       "\u001b[2;36m                    \u001b[0m         sagemaker-xgboost-\u001b[1;36m2025\u001b[0m-04-12-14-20-44-997                              \u001b[2m               \u001b[0m\n"
      ]
     },
     "metadata": {},
     "output_type": "display_data"
    },
    {
     "name": "stdout",
     "output_type": "stream",
     "text": [
      "2025-04-12 14:20:45 Starting - Starting the training job...\n",
      "..25-04-12 14:21:07 Starting - Preparing the instances for training.\n",
      ".....04-12 14:21:41 Downloading - Downloading the training image.\n",
      "\u001b[34m[2025-04-12 14:22:50.203 ip-10-0-182-115.ec2.internal:7 INFO utils.py:28] RULE_JOB_STOP_SIGNAL_FILENAME: None\u001b[0m\n",
      "\u001b[34m[2025-04-12 14:22:50.227 ip-10-0-182-115.ec2.internal:7 INFO profiler_config_parser.py:111] User has disabled profiler.\u001b[0m\n",
      "\u001b[34m[2025-04-12:14:22:50:INFO] Imported framework sagemaker_xgboost_container.training\u001b[0m\n",
      "\u001b[34m[2025-04-12:14:22:50:INFO] Failed to parse hyperparameter objective value binary:logistic to Json.\u001b[0m\n",
      "\u001b[34mReturning the value itself\u001b[0m\n",
      "\u001b[34m[2025-04-12:14:22:50:INFO] No GPUs detected (normal if no gpus installed)\u001b[0m\n",
      "\u001b[34m[2025-04-12:14:22:50:INFO] Running XGBoost Sagemaker in algorithm mode\u001b[0m\n",
      "\u001b[34m[2025-04-12:14:22:50:INFO] Determined 0 GPU(s) available on the instance.\u001b[0m\n",
      "\u001b[34m[2025-04-12:14:22:50:INFO] Determined delimiter of CSV input is ','\u001b[0m\n",
      "\u001b[34m[2025-04-12:14:22:50:INFO] Determined delimiter of CSV input is ','\u001b[0m\n",
      "\u001b[34m[2025-04-12:14:22:50:INFO] Determined delimiter of CSV input is ','\u001b[0m\n",
      "\u001b[34m[2025-04-12:14:22:50:INFO] Determined delimiter of CSV input is ','\u001b[0m\n",
      "\u001b[34m[2025-04-12:14:22:50:INFO] File path /opt/ml/input/data/train of input files\u001b[0m\n",
      "\u001b[34m[2025-04-12:14:22:50:INFO] Making smlinks from folder /opt/ml/input/data/train to folder /tmp/sagemaker_xgboost_input_data\u001b[0m\n",
      "\u001b[34m[2025-04-12:14:22:50:INFO] Making smlinks from folder /opt/ml/input/data/train/data to folder /tmp/sagemaker_xgboost_input_data\u001b[0m\n",
      "\u001b[34m[2025-04-12:14:22:50:INFO] creating symlink between Path /opt/ml/input/data/train/data/train.csv and destination /tmp/sagemaker_xgboost_input_data/train.csv-7188789540890240782\u001b[0m\n",
      "\u001b[34m[2025-04-12:14:22:50:INFO] creating symlink between Path /opt/ml/input/data/train/data/test.csv and destination /tmp/sagemaker_xgboost_input_data/test.csv8004210687734052195\u001b[0m\n",
      "\u001b[34m[2025-04-12:14:22:50:INFO] files path: /tmp/sagemaker_xgboost_input_data\u001b[0m\n",
      "\u001b[34m[2025-04-12:14:22:50:INFO] Determined delimiter of CSV input is ','\u001b[0m\n",
      "\u001b[34m[2025-04-12:14:22:50:INFO] File path /opt/ml/input/data/validation of input files\u001b[0m\n",
      "\u001b[34m[2025-04-12:14:22:50:INFO] Making smlinks from folder /opt/ml/input/data/validation to folder /tmp/sagemaker_xgboost_input_data\u001b[0m\n",
      "\u001b[34m[2025-04-12:14:22:50:INFO] Making smlinks from folder /opt/ml/input/data/validation/data to folder /tmp/sagemaker_xgboost_input_data\u001b[0m\n",
      "\u001b[34m[2025-04-12:14:22:50:INFO] creating symlink between Path /opt/ml/input/data/validation/data/train.csv and destination /tmp/sagemaker_xgboost_input_data/train.csv-7461963286340169384\u001b[0m\n",
      "\u001b[34m[2025-04-12:14:22:50:INFO] creating symlink between Path /opt/ml/input/data/validation/data/test.csv and destination /tmp/sagemaker_xgboost_input_data/test.csv-8886517189147574531\u001b[0m\n",
      "\u001b[34m[2025-04-12:14:22:50:INFO] files path: /tmp/sagemaker_xgboost_input_data\u001b[0m\n",
      "\u001b[34m[2025-04-12:14:22:50:INFO] Determined delimiter of CSV input is ','\u001b[0m\n",
      "\u001b[34m[2025-04-12:14:22:50:INFO] Single node training.\u001b[0m\n",
      "\u001b[34m[2025-04-12:14:22:50:INFO] Train matrix has 35000 rows and 8 columns\u001b[0m\n",
      "\u001b[34m[2025-04-12:14:22:50:INFO] Validation matrix has 35000 rows\u001b[0m\n",
      "\u001b[34m[2025-04-12 14:22:50.713 ip-10-0-182-115.ec2.internal:7 INFO json_config.py:92] Creating hook from json_config at /opt/ml/input/config/debughookconfig.json.\u001b[0m\n",
      "\u001b[34m[2025-04-12 14:22:50.714 ip-10-0-182-115.ec2.internal:7 INFO hook.py:206] tensorboard_dir has not been set for the hook. SMDebug will not be exporting tensorboard summaries.\u001b[0m\n",
      "\u001b[34m[2025-04-12 14:22:50.715 ip-10-0-182-115.ec2.internal:7 INFO hook.py:259] Saving to /opt/ml/output/tensors\u001b[0m\n",
      "\u001b[34m[2025-04-12 14:22:50.715 ip-10-0-182-115.ec2.internal:7 INFO state_store.py:77] The checkpoint config file /opt/ml/input/config/checkpointconfig.json does not exist.\u001b[0m\n",
      "\u001b[34m[2025-04-12:14:22:50:INFO] Debug hook created from config\u001b[0m\n",
      "\u001b[34m[2025-04-12 14:22:50.747 ip-10-0-182-115.ec2.internal:7 INFO hook.py:427] Monitoring the collections: metrics\u001b[0m\n",
      "\u001b[34m[2025-04-12 14:22:50.751 ip-10-0-182-115.ec2.internal:7 INFO hook.py:491] Hook is writing from the hook with pid: 7\u001b[0m\n",
      "\u001b[34m[0]#011train-logloss:0.59002#011validation-logloss:0.59002\u001b[0m\n",
      "\u001b[34m[1]#011train-logloss:0.52076#011validation-logloss:0.52076\u001b[0m\n",
      "\u001b[34m[2]#011train-logloss:0.47193#011validation-logloss:0.47193\u001b[0m\n",
      "\u001b[34m[3]#011train-logloss:0.43642#011validation-logloss:0.43642\u001b[0m\n",
      "\u001b[34m[4]#011train-logloss:0.41056#011validation-logloss:0.41056\u001b[0m\n",
      "\u001b[34m[5]#011train-logloss:0.39142#011validation-logloss:0.39142\u001b[0m\n",
      "\u001b[34m[6]#011train-logloss:0.37682#011validation-logloss:0.37682\u001b[0m\n",
      "\u001b[34m[7]#011train-logloss:0.36576#011validation-logloss:0.36576\u001b[0m\n",
      "\u001b[34m[8]#011train-logloss:0.35724#011validation-logloss:0.35724\u001b[0m\n",
      "\u001b[34m[9]#011train-logloss:0.35081#011validation-logloss:0.35081\u001b[0m\n",
      "\u001b[34m[10]#011train-logloss:0.34582#011validation-logloss:0.34582\u001b[0m\n",
      "\u001b[34m[11]#011train-logloss:0.34170#011validation-logloss:0.34170\u001b[0m\n",
      "\u001b[34m[12]#011train-logloss:0.33828#011validation-logloss:0.33828\u001b[0m\n",
      "\u001b[34m[13]#011train-logloss:0.33568#011validation-logloss:0.33568\u001b[0m\n",
      "\u001b[34m[14]#011train-logloss:0.33364#011validation-logloss:0.33364\u001b[0m\n",
      "\u001b[34m[15]#011train-logloss:0.33192#011validation-logloss:0.33192\u001b[0m\n",
      "\u001b[34m[16]#011train-logloss:0.33046#011validation-logloss:0.33046\u001b[0m\n",
      "\u001b[34m[17]#011train-logloss:0.32916#011validation-logloss:0.32916\u001b[0m\n",
      "\u001b[34m[18]#011train-logloss:0.32797#011validation-logloss:0.32797\u001b[0m\n",
      "\u001b[34m[19]#011train-logloss:0.32690#011validation-logloss:0.32690\u001b[0m\n",
      "\u001b[34m[20]#011train-logloss:0.32579#011validation-logloss:0.32579\u001b[0m\n",
      "\u001b[34m[21]#011train-logloss:0.32464#011validation-logloss:0.32464\u001b[0m\n",
      "\u001b[34m[22]#011train-logloss:0.32362#011validation-logloss:0.32362\u001b[0m\n",
      "\u001b[34m[23]#011train-logloss:0.32297#011validation-logloss:0.32297\u001b[0m\n",
      "\u001b[34m[24]#011train-logloss:0.32213#011validation-logloss:0.32213\u001b[0m\n",
      "\u001b[34m[25]#011train-logloss:0.32149#011validation-logloss:0.32149\u001b[0m\n",
      "\u001b[34m[26]#011train-logloss:0.32101#011validation-logloss:0.32101\u001b[0m\n",
      "\u001b[34m[27]#011train-logloss:0.32072#011validation-logloss:0.32072\u001b[0m\n",
      "\u001b[34m[28]#011train-logloss:0.31996#011validation-logloss:0.31996\u001b[0m\n",
      "\u001b[34m[29]#011train-logloss:0.31953#011validation-logloss:0.31953\u001b[0m\n",
      "\u001b[34m[30]#011train-logloss:0.31879#011validation-logloss:0.31879\u001b[0m\n",
      "\u001b[34m[31]#011train-logloss:0.31763#011validation-logloss:0.31763\u001b[0m\n",
      "\u001b[34m[32]#011train-logloss:0.31710#011validation-logloss:0.31710\u001b[0m\n",
      "\u001b[34m[33]#011train-logloss:0.31638#011validation-logloss:0.31638\u001b[0m\n",
      "\u001b[34m[34]#011train-logloss:0.31581#011validation-logloss:0.31581\u001b[0m\n",
      "\u001b[34m[35]#011train-logloss:0.31532#011validation-logloss:0.31532\u001b[0m\n",
      "\u001b[34m[36]#011train-logloss:0.31463#011validation-logloss:0.31463\u001b[0m\n",
      "\u001b[34m[37]#011train-logloss:0.31407#011validation-logloss:0.31407\u001b[0m\n",
      "\u001b[34m[38]#011train-logloss:0.31335#011validation-logloss:0.31335\u001b[0m\n",
      "\u001b[34m[39]#011train-logloss:0.31270#011validation-logloss:0.31270\u001b[0m\n",
      "\u001b[34m[40]#011train-logloss:0.31230#011validation-logloss:0.31230\u001b[0m\n",
      "\u001b[34m[41]#011train-logloss:0.31221#011validation-logloss:0.31221\u001b[0m\n",
      "\u001b[34m[42]#011train-logloss:0.31220#011validation-logloss:0.31220\u001b[0m\n",
      "\u001b[34m[43]#011train-logloss:0.31206#011validation-logloss:0.31206\u001b[0m\n",
      "\u001b[34m[44]#011train-logloss:0.31159#011validation-logloss:0.31159\u001b[0m\n",
      "\u001b[34m[45]#011train-logloss:0.31088#011validation-logloss:0.31088\u001b[0m\n",
      "\u001b[34m[46]#011train-logloss:0.31060#011validation-logloss:0.31060\u001b[0m\n",
      "\u001b[34m[47]#011train-logloss:0.31019#011validation-logloss:0.31019\u001b[0m\n",
      "\u001b[34m[48]#011train-logloss:0.30959#011validation-logloss:0.30959\u001b[0m\n",
      "\u001b[34m[49]#011train-logloss:0.30910#011validation-logloss:0.30910\u001b[0m\n",
      "\n",
      "2025-04-12 14:23:10 Uploading - Uploading generated training model\n",
      "2025-04-12 14:23:10 Completed - Training job completed\n",
      "Training seconds: 104\n",
      "Billable seconds: 41\n",
      "Managed Spot Training savings: 60.6%\n"
     ]
    }
   ],
   "source": [
    "estimator.fit({'train': s3_input_train, 'validation': s3_input_test})"
   ]
  },
  {
   "cell_type": "code",
   "execution_count": 74,
   "id": "97cf24cb-a8d3-4744-a5e7-ce3e17976d4d",
   "metadata": {},
   "outputs": [
    {
     "data": {
      "text/html": [
       "<pre style=\"white-space:pre;overflow-x:auto;line-height:normal;font-family:Menlo,'DejaVu Sans Mono',consolas,'Courier New',monospace\"><span style=\"color: #7fbfbf; text-decoration-color: #7fbfbf\">[04/12/25 14:35:53] </span><span style=\"color: #0069ff; text-decoration-color: #0069ff; font-weight: bold\">INFO    </span> Creating model with name: sagemaker-xgboost-<span style=\"color: #008080; text-decoration-color: #008080; font-weight: bold\">2025</span>-04-12-14-35-53-165    <a href=\"file:///opt/conda/lib/python3.11/site-packages/sagemaker/session.py\" target=\"_blank\"><span style=\"color: #7f7f7f; text-decoration-color: #7f7f7f\">session.py</span></a><span style=\"color: #7f7f7f; text-decoration-color: #7f7f7f\">:</span><a href=\"file:///opt/conda/lib/python3.11/site-packages/sagemaker/session.py#4094\" target=\"_blank\"><span style=\"color: #7f7f7f; text-decoration-color: #7f7f7f\">4094</span></a>\n",
       "</pre>\n"
      ],
      "text/plain": [
       "\u001b[2;36m[04/12/25 14:35:53]\u001b[0m\u001b[2;36m \u001b[0m\u001b[1;38;2;0;105;255mINFO    \u001b[0m Creating model with name: sagemaker-xgboost-\u001b[1;36m2025\u001b[0m-04-12-14-35-53-165    \u001b]8;id=243005;file:///opt/conda/lib/python3.11/site-packages/sagemaker/session.py\u001b\\\u001b[2msession.py\u001b[0m\u001b]8;;\u001b\\\u001b[2m:\u001b[0m\u001b]8;id=800682;file:///opt/conda/lib/python3.11/site-packages/sagemaker/session.py#4094\u001b\\\u001b[2m4094\u001b[0m\u001b]8;;\u001b\\\n"
      ]
     },
     "metadata": {},
     "output_type": "display_data"
    },
    {
     "data": {
      "text/html": [
       "<pre style=\"white-space:pre;overflow-x:auto;line-height:normal;font-family:Menlo,'DejaVu Sans Mono',consolas,'Courier New',monospace\"><span style=\"color: #7fbfbf; text-decoration-color: #7fbfbf\">[04/12/25 14:35:54] </span><span style=\"color: #0069ff; text-decoration-color: #0069ff; font-weight: bold\">INFO    </span> Creating endpoint-config with name                                     <a href=\"file:///opt/conda/lib/python3.11/site-packages/sagemaker/session.py\" target=\"_blank\"><span style=\"color: #7f7f7f; text-decoration-color: #7f7f7f\">session.py</span></a><span style=\"color: #7f7f7f; text-decoration-color: #7f7f7f\">:</span><a href=\"file:///opt/conda/lib/python3.11/site-packages/sagemaker/session.py#5889\" target=\"_blank\"><span style=\"color: #7f7f7f; text-decoration-color: #7f7f7f\">5889</span></a>\n",
       "<span style=\"color: #7fbfbf; text-decoration-color: #7fbfbf\">                    </span>         sagemaker-xgboost-<span style=\"color: #008080; text-decoration-color: #008080; font-weight: bold\">2025</span>-04-12-14-35-53-165                              <span style=\"color: #7f7f7f; text-decoration-color: #7f7f7f\">               </span>\n",
       "</pre>\n"
      ],
      "text/plain": [
       "\u001b[2;36m[04/12/25 14:35:54]\u001b[0m\u001b[2;36m \u001b[0m\u001b[1;38;2;0;105;255mINFO    \u001b[0m Creating endpoint-config with name                                     \u001b]8;id=613175;file:///opt/conda/lib/python3.11/site-packages/sagemaker/session.py\u001b\\\u001b[2msession.py\u001b[0m\u001b]8;;\u001b\\\u001b[2m:\u001b[0m\u001b]8;id=116131;file:///opt/conda/lib/python3.11/site-packages/sagemaker/session.py#5889\u001b\\\u001b[2m5889\u001b[0m\u001b]8;;\u001b\\\n",
       "\u001b[2;36m                    \u001b[0m         sagemaker-xgboost-\u001b[1;36m2025\u001b[0m-04-12-14-35-53-165                              \u001b[2m               \u001b[0m\n"
      ]
     },
     "metadata": {},
     "output_type": "display_data"
    },
    {
     "data": {
      "text/html": [
       "<pre style=\"white-space:pre;overflow-x:auto;line-height:normal;font-family:Menlo,'DejaVu Sans Mono',consolas,'Courier New',monospace\"><span style=\"color: #7fbfbf; text-decoration-color: #7fbfbf\">                    </span><span style=\"color: #0069ff; text-decoration-color: #0069ff; font-weight: bold\">INFO    </span> Creating endpoint with name sagemaker-xgboost-<span style=\"color: #008080; text-decoration-color: #008080; font-weight: bold\">2025</span>-04-12-14-35-53-165  <a href=\"file:///opt/conda/lib/python3.11/site-packages/sagemaker/session.py\" target=\"_blank\"><span style=\"color: #7f7f7f; text-decoration-color: #7f7f7f\">session.py</span></a><span style=\"color: #7f7f7f; text-decoration-color: #7f7f7f\">:</span><a href=\"file:///opt/conda/lib/python3.11/site-packages/sagemaker/session.py#4711\" target=\"_blank\"><span style=\"color: #7f7f7f; text-decoration-color: #7f7f7f\">4711</span></a>\n",
       "</pre>\n"
      ],
      "text/plain": [
       "\u001b[2;36m                   \u001b[0m\u001b[2;36m \u001b[0m\u001b[1;38;2;0;105;255mINFO    \u001b[0m Creating endpoint with name sagemaker-xgboost-\u001b[1;36m2025\u001b[0m-04-12-14-35-53-165  \u001b]8;id=838597;file:///opt/conda/lib/python3.11/site-packages/sagemaker/session.py\u001b\\\u001b[2msession.py\u001b[0m\u001b]8;;\u001b\\\u001b[2m:\u001b[0m\u001b]8;id=358020;file:///opt/conda/lib/python3.11/site-packages/sagemaker/session.py#4711\u001b\\\u001b[2m4711\u001b[0m\u001b]8;;\u001b\\\n"
      ]
     },
     "metadata": {},
     "output_type": "display_data"
    },
    {
     "name": "stdout",
     "output_type": "stream",
     "text": [
      "-------!"
     ]
    }
   ],
   "source": [
    "# initial_instance_count indicates the number of compute instances that will be launched to host your deployed model\n",
    "# initial_instance_count=1: Good for dev/test or low-traffic use.\n",
    "# initial_instance_count=2+: Useful in production where you expect concurrent requests and want high availability.\n",
    "xgb_predictor = estimator.deploy(initial_instance_count=1,instance_type='ml.m4.xlarge')"
   ]
  },
  {
   "cell_type": "code",
   "execution_count": 139,
   "id": "0a910888-d899-45cf-bad5-ebd90041713f",
   "metadata": {},
   "outputs": [
    {
     "data": {
      "text/plain": [
       "'sagemaker-xgboost-2025-04-12-14-35-53-165'"
      ]
     },
     "execution_count": 139,
     "metadata": {},
     "output_type": "execute_result"
    }
   ],
   "source": [
    "# Display the model endpoint\n",
    "xgb_predictor.endpoint_name"
   ]
  },
  {
   "cell_type": "code",
   "execution_count": 96,
   "id": "849e1f70-44a2-4f10-9050-5628ec600942",
   "metadata": {},
   "outputs": [],
   "source": [
    "test_data_array = test_df.drop(['Exited'], axis=1).values\n",
    "\n",
    "xgb_predictor.serializer = CSVSerializer()\n",
    "xgb_predictor.content_type = 'text/csv'\n",
    "\n",
    "# Convert array to multi-line CSV string (each row is one sample)\n",
    "csv_payload = \"\\n\".join([\",\".join(map(str, row)) for row in test_data_array])\n",
    "\n",
    "# Send the entire batch\n",
    "response = xgb_predictor.predict(csv_payload).decode(\"utf-8\")\n",
    "\n",
    "# Convert the returned string to an array\n",
    "predictions_array = np.fromstring(response.strip(), sep=\"\\n\")"
   ]
  },
  {
   "cell_type": "code",
   "execution_count": 97,
   "id": "0e808244-136b-470a-8dd5-0675e389a7b5",
   "metadata": {},
   "outputs": [
    {
     "name": "stdout",
     "output_type": "stream",
     "text": [
      "(10000,)\n"
     ]
    }
   ],
   "source": [
    "print(predictions_array.shape)"
   ]
  },
  {
   "cell_type": "code",
   "execution_count": null,
   "id": "8a9c5240-b972-45c6-aa2e-3a102f7860da",
   "metadata": {},
   "outputs": [],
   "source": [
    "# Convert predictions to 0 or 1 for easier comparison\n",
    "predictions_class = np.round(predictions_array)\n",
    "\n",
    "# Create confusion matrix\n",
    "cm = pd.crosstab(index=test_df['Exited'], columns=predictions_class, rownames=['Observed'], colnames=['Predicted'])\n",
    "\n",
    "# Extract values from confusion matrix\n",
    "tn = cm.iloc[0, 0]  # True Negative\n",
    "fn = cm.iloc[1, 0]  # False Negative\n",
    "tp = cm.iloc[1, 1]  # True Positive\n",
    "fp = cm.iloc[0, 1]  # False Positive\n",
    "\n",
    "# Calculate overall classification rate (accuracy)\n",
    "accuracy = (tp + tn) / (tp + tn + fp + fn) * 100\n",
    "\n",
    "# Print overall classification rate\n",
    "print(\"\\n{:<20}{:<4.1f}%\".format(\"Overall Classification Rate:\", accuracy))\n",
    "\n",
    "# Print confusion matrix\n",
    "print(\"{:<15}{:<15}{:>8}\".format(\"Predicted\", \"No Exited\", \"Exited\"))\n",
    "print(\"Observed\")\n",
    "print(\"{0:<15}{1:<2.0f}% ({2:<}){3:>6.0f}% ({4:<})\".format(\"No Exited\", tn/(tn+fn)*100,tn, fp/(tp+fp)*100, fp))\n",
    "print(\"{0:<16}{1:<1.0f}% ({2:<}){3:>7.0f}% ({4:<}) \\n\".format(\"Exited\", fn/(tn+fn)*100,fn, tp/(tp+fp)*100, tp))"
   ]
  },
  {
   "cell_type": "code",
   "execution_count": 117,
   "id": "457125cd-2c80-423f-82a2-e911980ade55",
   "metadata": {},
   "outputs": [],
   "source": [
    "real = [100, 27, 3, 4050, 1, 0, 0, 98345]"
   ]
  },
  {
   "cell_type": "code",
   "execution_count": 118,
   "id": "92d34904-3c36-4c92-8a3e-221c7a96a3e6",
   "metadata": {},
   "outputs": [
    {
     "name": "stdout",
     "output_type": "stream",
     "text": [
      "Did not exit\n"
     ]
    }
   ],
   "source": [
    "res_real = xgb_predictor.predict(real).decode(\"utf-8\")\n",
    "\n",
    "# Convert the returned string to an array\n",
    "predictions_array = np.fromstring(res_real.strip(), sep=\"\\n\")\n",
    "\n",
    "threshold = 0.5\n",
    "predicted_class = \"Exited\" if predictions_array[0] > threshold else \"Did not exit\"\n",
    "print(predicted_class)"
   ]
  },
  {
   "cell_type": "markdown",
   "id": "a9c6bcf5-cdfe-42cf-ad6c-c4a7977d6753",
   "metadata": {},
   "source": [
    "##### Detele the endpoints"
   ]
  },
  {
   "cell_type": "code",
   "execution_count": 140,
   "id": "3c7d97bc-987a-4b26-86b2-9e81b19be9a8",
   "metadata": {},
   "outputs": [
    {
     "data": {
      "text/html": [
       "<pre style=\"white-space:pre;overflow-x:auto;line-height:normal;font-family:Menlo,'DejaVu Sans Mono',consolas,'Courier New',monospace\"><span style=\"color: #7fbfbf; text-decoration-color: #7fbfbf\">[04/12/25 15:23:38] </span><span style=\"color: #d7af00; text-decoration-color: #d7af00; font-weight: bold\">WARNING </span> The endpoint attribute has been renamed in sagemaker&gt;=<span style=\"color: #008080; text-decoration-color: #008080; font-weight: bold\">2</span>.            <a href=\"file:///opt/conda/lib/python3.11/site-packages/sagemaker/deprecations.py\" target=\"_blank\"><span style=\"color: #7f7f7f; text-decoration-color: #7f7f7f\">deprecations.py</span></a><span style=\"color: #7f7f7f; text-decoration-color: #7f7f7f\">:</span><a href=\"file:///opt/conda/lib/python3.11/site-packages/sagemaker/deprecations.py#34\" target=\"_blank\"><span style=\"color: #7f7f7f; text-decoration-color: #7f7f7f\">34</span></a>\n",
       "<span style=\"color: #7fbfbf; text-decoration-color: #7fbfbf\">                    </span>         See: <span style=\"color: #0069ff; text-decoration-color: #0069ff; text-decoration: underline\">https://sagemaker.readthedocs.io/en/stable/v2.html</span> for         <span style=\"color: #7f7f7f; text-decoration-color: #7f7f7f\">                  </span>\n",
       "<span style=\"color: #7fbfbf; text-decoration-color: #7fbfbf\">                    </span>         details.                                                            <span style=\"color: #7f7f7f; text-decoration-color: #7f7f7f\">                  </span>\n",
       "</pre>\n"
      ],
      "text/plain": [
       "\u001b[2;36m[04/12/25 15:23:38]\u001b[0m\u001b[2;36m \u001b[0m\u001b[1;38;2;215;175;0mWARNING \u001b[0m The endpoint attribute has been renamed in sagemaker>=\u001b[1;36m2\u001b[0m.            \u001b]8;id=360644;file:///opt/conda/lib/python3.11/site-packages/sagemaker/deprecations.py\u001b\\\u001b[2mdeprecations.py\u001b[0m\u001b]8;;\u001b\\\u001b[2m:\u001b[0m\u001b]8;id=607426;file:///opt/conda/lib/python3.11/site-packages/sagemaker/deprecations.py#34\u001b\\\u001b[2m34\u001b[0m\u001b]8;;\u001b\\\n",
       "\u001b[2;36m                    \u001b[0m         See: \u001b[4;38;2;0;105;255mhttps://sagemaker.readthedocs.io/en/stable/v2.html\u001b[0m for         \u001b[2m                  \u001b[0m\n",
       "\u001b[2;36m                    \u001b[0m         details.                                                            \u001b[2m                  \u001b[0m\n"
      ]
     },
     "metadata": {},
     "output_type": "display_data"
    },
    {
     "data": {
      "text/html": [
       "<pre style=\"white-space:pre;overflow-x:auto;line-height:normal;font-family:Menlo,'DejaVu Sans Mono',consolas,'Courier New',monospace\"><span style=\"color: #7fbfbf; text-decoration-color: #7fbfbf\">                    </span><span style=\"color: #0069ff; text-decoration-color: #0069ff; font-weight: bold\">INFO    </span> Deleting endpoint with name: sagemaker-xgboost-<span style=\"color: #008080; text-decoration-color: #008080; font-weight: bold\">2025</span>-04-12-14-35-53-165 <a href=\"file:///opt/conda/lib/python3.11/site-packages/sagemaker/session.py\" target=\"_blank\"><span style=\"color: #7f7f7f; text-decoration-color: #7f7f7f\">session.py</span></a><span style=\"color: #7f7f7f; text-decoration-color: #7f7f7f\">:</span><a href=\"file:///opt/conda/lib/python3.11/site-packages/sagemaker/session.py#4855\" target=\"_blank\"><span style=\"color: #7f7f7f; text-decoration-color: #7f7f7f\">4855</span></a>\n",
       "</pre>\n"
      ],
      "text/plain": [
       "\u001b[2;36m                   \u001b[0m\u001b[2;36m \u001b[0m\u001b[1;38;2;0;105;255mINFO    \u001b[0m Deleting endpoint with name: sagemaker-xgboost-\u001b[1;36m2025\u001b[0m-04-12-14-35-53-165 \u001b]8;id=260005;file:///opt/conda/lib/python3.11/site-packages/sagemaker/session.py\u001b\\\u001b[2msession.py\u001b[0m\u001b]8;;\u001b\\\u001b[2m:\u001b[0m\u001b]8;id=695734;file:///opt/conda/lib/python3.11/site-packages/sagemaker/session.py#4855\u001b\\\u001b[2m4855\u001b[0m\u001b]8;;\u001b\\\n"
      ]
     },
     "metadata": {},
     "output_type": "display_data"
    },
    {
     "data": {
      "text/plain": [
       "[{'ResponseMetadata': {'RequestId': 'GZGVBZ7G38SB7NF2',\n",
       "   'HostId': 'NaIefYccVmqMC+QPkGCVAHebL4ihXXMf7Z9FD9oY9U1LvixVBVtKcff5qgdV5dZ5kc6wrAM0ojX2OQakEmyTeWkRvLBG+xbGAfFz1wYV/JU=',\n",
       "   'HTTPStatusCode': 200,\n",
       "   'HTTPHeaders': {'x-amz-id-2': 'NaIefYccVmqMC+QPkGCVAHebL4ihXXMf7Z9FD9oY9U1LvixVBVtKcff5qgdV5dZ5kc6wrAM0ojX2OQakEmyTeWkRvLBG+xbGAfFz1wYV/JU=',\n",
       "    'x-amz-request-id': 'GZGVBZ7G38SB7NF2',\n",
       "    'date': 'Sat, 12 Apr 2025 15:23:39 GMT',\n",
       "    'connection': 'close',\n",
       "    'content-type': 'application/xml',\n",
       "    'transfer-encoding': 'chunked',\n",
       "    'server': 'AmazonS3'},\n",
       "   'RetryAttempts': 0},\n",
       "  'Deleted': [{'Key': 'decision-tree-as-a-built-in-algo/output/sagemaker-xgboost-2025-04-12-14-20-44-997/profiler-output/system/incremental/2025041214/1744467660.algo-1.json'},\n",
       "   {'Key': 'decision-tree-as-a-built-in-algo/data/test.csv'},\n",
       "   {'Key': 'decision-tree-as-a-built-in-algo/output/sagemaker-xgboost-2025-04-12-14-20-44-997/debug-output/index/000000000/000000000010_worker_0.json'},\n",
       "   {'Key': 'decision-tree-as-a-built-in-algo/output/sagemaker-xgboost-2025-04-12-14-20-44-997/debug-output/events/000000000030/000000000030_worker_0.tfevents'},\n",
       "   {'Key': 'decision-tree-as-a-built-in-algo/output/sagemaker-xgboost-2025-04-12-14-20-44-997/debug-output/events/000000000020/000000000020_worker_0.tfevents'},\n",
       "   {'Key': 'decision-tree-as-a-built-in-algo/output/sagemaker-xgboost-2025-04-12-14-20-44-997/profiler-output/system/training_job_end.ts'},\n",
       "   {'Key': 'decision-tree-as-a-built-in-algo/output/sagemaker-xgboost-2025-04-12-14-20-44-997/debug-output/index/000000000/000000000000_worker_0.json'},\n",
       "   {'Key': 'decision-tree-as-a-built-in-algo/output/sagemaker-xgboost-2025-04-12-14-20-44-997/debug-output/index/000000000/000000000040_worker_0.json'},\n",
       "   {'Key': 'decision-tree-as-a-built-in-algo/output/sagemaker-xgboost-2025-04-12-14-20-44-997/debug-output/events/000000000000/000000000000_worker_0.tfevents'},\n",
       "   {'Key': 'decision-tree-as-a-built-in-algo/output/sagemaker-xgboost-2025-04-12-14-20-44-997/debug-output/index/000000000/000000000020_worker_0.json'},\n",
       "   {'Key': 'decision-tree-as-a-built-in-algo/output/sagemaker-xgboost-2025-04-12-14-20-44-997/debug-output/index/000000000/000000000030_worker_0.json'},\n",
       "   {'Key': 'decision-tree-as-a-built-in-algo/output/sagemaker-xgboost-2025-04-12-14-20-44-997/debug-output/training_job_end.ts'},\n",
       "   {'Key': 'decision-tree-as-a-built-in-algo/output/sagemaker-xgboost-2025-04-12-14-20-44-997/output/model.tar.gz'},\n",
       "   {'Key': 'decision-tree-as-a-built-in-algo/output/sagemaker-xgboost-2025-04-12-14-20-44-997/profiler-output/framework/training_job_end.ts'},\n",
       "   {'Key': 'decision-tree-as-a-built-in-algo/output/sagemaker-xgboost-2025-04-12-14-20-44-997/debug-output/claim.smd'},\n",
       "   {'Key': 'decision-tree-as-a-built-in-algo/data/train.csv'},\n",
       "   {'Key': 'decision-tree-as-a-built-in-algo/output/sagemaker-xgboost-2025-04-12-14-20-44-997/debug-output/events/000000000040/000000000040_worker_0.tfevents'},\n",
       "   {'Key': 'decision-tree-as-a-built-in-algo/output/sagemaker-xgboost-2025-04-12-14-20-44-997/debug-output/collections/000000000/worker_0_collections.json'},\n",
       "   {'Key': 'decision-tree-as-a-built-in-algo/output/sagemaker-xgboost-2025-04-12-14-20-44-997/debug-output/events/000000000010/000000000010_worker_0.tfevents'},\n",
       "   {'Key': 'decision-tree-as-a-built-in-algo/output/sagemaker-xgboost-2025-04-12-14-20-44-997/profiler-output/system/incremental/2025041214/1744467720.algo-1.json'}]}]"
      ]
     },
     "execution_count": 140,
     "metadata": {},
     "output_type": "execute_result"
    }
   ],
   "source": [
    "sagemaker.Session().delete_endpoint(xgb_predictor.endpoint)\n",
    "bucket_to_delete = boto3.resource('s3').Bucket(bucket_name)\n",
    "bucket_to_delete.objects.all().delete()"
   ]
  }
 ],
 "metadata": {
  "kernelspec": {
   "display_name": "Python 3 (ipykernel)",
   "language": "python",
   "name": "python3"
  },
  "language_info": {
   "codemirror_mode": {
    "name": "ipython",
    "version": 3
   },
   "file_extension": ".py",
   "mimetype": "text/x-python",
   "name": "python",
   "nbconvert_exporter": "python",
   "pygments_lexer": "ipython3",
   "version": "3.11.11"
  }
 },
 "nbformat": 4,
 "nbformat_minor": 5
}
